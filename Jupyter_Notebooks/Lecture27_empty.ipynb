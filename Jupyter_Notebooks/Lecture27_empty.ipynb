{
  "nbformat": 4,
  "nbformat_minor": 0,
  "metadata": {
    "colab": {
      "provenance": []
    },
    "kernelspec": {
      "name": "python3",
      "display_name": "Python 3"
    },
    "language_info": {
      "name": "python"
    }
  },
  "cells": [
    {
      "cell_type": "markdown",
      "source": [
        "## Chapter 6 Ordinary Differential Equation (ODE)\n",
        "\n",
        "* 6.1 Initial Value Problems\n",
        "  * 6.1.1 Euler's Method\n",
        "  * 6.1.2 Existence, uniqueness, and continuity for solutions\n",
        "  * 6.1.3 First-order linear equations\n",
        "* 6.2 Analysis of IVP Solvers\n",
        "  * The Explicit Trapezoid Method\n",
        "* 6.3 Systems of ODEs\n",
        "* **6.4 Runge-Kutta Methods and Applications**"
      ],
      "metadata": {
        "id": "pSH48QgAeqDJ"
      }
    },
    {
      "cell_type": "code",
      "source": [
        "import numpy as np\n",
        "\n",
        "import matplotlib.pyplot as plt\n",
        "from matplotlib import rc\n",
        "\n",
        "plt.rcParams['xtick.labelsize']=20      # change the tick label size for x axis\n",
        "plt.rcParams['ytick.labelsize']=20      # change the tick label size for x axis\n",
        "plt.rcParams['axes.linewidth']=1        # change the line width of the axis\n",
        "plt.rcParams['xtick.major.width'] = 3   # change the tick line width of x axis\n",
        "plt.rcParams['ytick.major.width'] = 3   # change the tick line width of y axis \n",
        "rc('text', usetex=False)                # disable LaTeX rendering in plots\n",
        "rc('font',**{'family':'DejaVu Sans'})   # set the font of the plot to be DejaVu Sans"
      ],
      "metadata": {
        "id": "3Z4oEWOvpe8l"
      },
      "execution_count": null,
      "outputs": []
    },
    {
      "cell_type": "markdown",
      "source": [
        "### Runge-Kutta Method of Order 4 (RK4)\n",
        "This is the method most computer programs use as their default numerical solvers for solving IVPs. \n",
        "\n",
        "The popularity of this method stems from its simplicity and ease of programming. It is a one-step method, so that it requires only an initial condition to get started; yet, as a fourth-order method, it is considerably more accurate than either the Euler or Trapezoid Methods.\n",
        "\n",
        "$$w_{i+1} = w_i + \\frac{h}{6}(s_1+2s_2+2s_3+s_4)$$\n",
        "where,\n",
        "\\begin{align}\n",
        "s_1 &= f(t_i,w_i)\\\\\n",
        "s_2 &= f(t_i+\\frac{h}{2}, w_i+\\frac{h}{2}s_1)\\\\\n",
        "s_3 &= f(t_i+\\frac{h}{2}, w_i+\\frac{h}{2}s_2)\\\\\n",
        "s_4 &= f(t_i+h, w_i+hs_3)\n",
        "\\end{align}\n",
        "\n",
        "Let's study the error of RK4 compares to Euler's Method using the following IVP.\n",
        "\n",
        "$$\n",
        "\\left\\{\n",
        "\\begin{matrix}\n",
        "y'=ty+t^3\\\\\n",
        "y(0)=y_0\\\\\n",
        "t \\text{ in } [0, 1]\n",
        "\\end{matrix}\n",
        "\\right.\n",
        "$$\n",
        "\n",
        "The exact solution for this ODE is\n",
        "$$y(t)=3e^{t^2/2}-t^2-2$$\n",
        "for $y(0)=1$."
      ],
      "metadata": {
        "id": "yRxEFWqAlIQ6"
      }
    },
    {
      "cell_type": "markdown",
      "source": [
        "#### 1. Write a function for $f(t, y) = ty+t^3$"
      ],
      "metadata": {
        "id": "SzOjQ7JmpTw9"
      }
    },
    {
      "cell_type": "code",
      "source": [
        "def f(t, y):\n",
        "  return "
      ],
      "metadata": {
        "id": "_0h1nzr9es-I"
      },
      "execution_count": null,
      "outputs": []
    },
    {
      "cell_type": "markdown",
      "source": [
        "#### 2. Use Euler and RK4 to solve the IVP"
      ],
      "metadata": {
        "id": "_7pPz3RG3B5L"
      }
    },
    {
      "cell_type": "code",
      "source": [
        "m = 20\n",
        "start = 0.0\n",
        "end = 1.0\n",
        "t = np.linspace(start, end, m+1)\n",
        "h = (end-start)/m\n",
        "y_0 = 1.0\n",
        "\n",
        "### exact solution\n",
        "y_exact = 3*np.exp(t**2/2)-t**2-2\n",
        "\n",
        "### euler solution\n",
        "w_euler = np.zeros(m+1)\n",
        "w_euler[0] = y_0\n",
        "for i in range(0, m):\n",
        "  w_euler[i+1] = w_euler[i]+h*f(t[i], w_euler[i])\n",
        "\n",
        "### rk4 solution\n",
        "w_rk4 = np.zeros(m+1)\n",
        "w_rk4[0] = y_0\n",
        "for i in range(0, m):\n",
        "  s_1 = \n",
        "  s_2 = \n",
        "  s_3 = \n",
        "  s_4 = \n",
        "  w_rk4[i+1] = \n",
        "\n",
        "fig = plt.figure(figsize=(6, 6))\n",
        "ax = fig.add_subplot(1, 1, 1)\n",
        "ax.spines['top'].set_color('none')\n",
        "ax.spines['bottom'].set_position(('axes', 0.0))\n",
        "ax.spines['left'].set_position('zero')\n",
        "ax.spines['right'].set_color('none')\n",
        "plt.plot(t, y_exact, linewidth = 2, label=\"Exact\")\n",
        "plt.plot(t, w_euler, linewidth = 2, label=\"Euler\")\n",
        "plt.plot(t, w_rk4, linewidth = 2, label=\"RK4\")\n",
        "plt.scatter(t, w_rk4, linewidth = 2, label=\"RK4 Scatter\")\n",
        "plt.xlabel('t', fontsize = 25, loc='right')\n",
        "plt.ylabel('y', fontsize = 25)\n",
        "plt.legend(fontsize = 20, frameon = False)"
      ],
      "metadata": {
        "id": "-sQIPGwUpcHC"
      },
      "execution_count": null,
      "outputs": []
    },
    {
      "cell_type": "markdown",
      "source": [
        "#### 3. Error Comparison"
      ],
      "metadata": {
        "id": "LrbhcTX13Gjl"
      }
    },
    {
      "cell_type": "code",
      "source": [
        "fig = plt.figure(figsize=(6, 6))\n",
        "plt.scatter(t, np.abs(y_exact - w_euler), linewidth = 2, label=\"Euler Error\")\n",
        "plt.scatter(t, np.abs(y_exact - w_rk4), linewidth = 2, label=\"RK4 Error\")\n",
        "plt.legend(fontsize = 20)\n",
        "plt.xscale(\"log\")\n",
        "plt.yscale(\"log\")"
      ],
      "metadata": {
        "id": "TrWK6oQe0wcA"
      },
      "execution_count": null,
      "outputs": []
    },
    {
      "cell_type": "markdown",
      "source": [
        "#### 4. Euler and RK4 Error Scaling as a function of $h$"
      ],
      "metadata": {
        "id": "BG3qgDzG4lJS"
      }
    },
    {
      "cell_type": "code",
      "source": [
        "m_all = [5, 10, 20, 50, 100, 200]\n",
        "h_all = []\n",
        "euler_error = []\n",
        "rk4_error = []\n",
        "start = 0.0\n",
        "end = 1.0\n",
        "y_exact_end = 3*np.exp(1.0**2/2)-1.0**2-2\n",
        "\n",
        "for m in m_all:\n",
        "  \n",
        "\n",
        "fig = plt.figure(figsize=(6, 6))\n",
        "plt.scatter(h_all, euler_error, linewidth = 2, label=\"Euler Error\")\n",
        "plt.scatter(h_all, rk4_error, linewidth = 2, label=\"RK4 Error\")\n",
        "plt.xlabel('h', fontsize = 25, loc='right')\n",
        "plt.ylabel('error', fontsize = 25)\n",
        "plt.xscale(\"log\")\n",
        "plt.yscale(\"log\")\n",
        "plt.legend(fontsize = 20)"
      ],
      "metadata": {
        "id": "xb_k3lxD3V2d"
      },
      "execution_count": null,
      "outputs": []
    },
    {
      "cell_type": "markdown",
      "source": [
        "### 2. Lorenz Equations\n",
        "\n",
        "The **Lorenz equations** are a simplification of a miniature atmosphere model that he designed to study Rayleigh–Bénard convection, the movement of heat in a fluid, such as air, from a lower warm medium (such as the ground) to a higher cool medium (like the upper atmosphere). In this model of a two-dimensional atmosphere, a circulation of air develops that can be described by the following system of three equations:\n",
        "\\begin{align}\n",
        "x′ &= −sx + sy\\\\\n",
        "y′ &= −xz + rx − y\\\\\n",
        "z′ &= xy − bz\\\\\n",
        "\\end{align}\n",
        "The variable $x$ denotes the clockwise circulation velocity, $y$ measures the temperature difference between the ascending and descending columns of air, and $z$ measures the deviation from a strictly linear temperature profile in the vertical direction. The Prandtl number $s$, the Rayleigh number $r$, and $b$ are parameters of the system. \n",
        "\n",
        "The most common setting for the parameters is $s = 10$, $r = 28$, and $b = 8/3$.\n",
        "\n",
        "We will use the `scipy` built in IVP solver to solve the Lorenz Equations, which will use RK4 algorithm.\n",
        "https://docs.scipy.org/doc/scipy/reference/generated/scipy.integrate.solve_ivp.html"
      ],
      "metadata": {
        "id": "hkpEdty16q2u"
      }
    },
    {
      "cell_type": "code",
      "source": [
        "from scipy.integrate import solve_ivp\n",
        "\n",
        "def lorenz(t, params, s=10.0, r=28.0, b=8.0/3.0):\n",
        "  \n",
        "  return \n",
        "\n",
        "sol = solve_ivp()"
      ],
      "metadata": {
        "id": "ShgHTqsR6V0F"
      },
      "execution_count": null,
      "outputs": []
    },
    {
      "cell_type": "code",
      "source": [
        "plt.plot(sol.y[0], sol.y[2])"
      ],
      "metadata": {
        "id": "DKFpXGjgA8mW"
      },
      "execution_count": null,
      "outputs": []
    },
    {
      "cell_type": "markdown",
      "source": [
        "### 3. In class Exercise\n",
        "\n",
        "Use built-in solver to solve the equation below.\n",
        "\n",
        "$$\n",
        "\\left\\{\n",
        "\\begin{matrix}\n",
        "y'=ty+t^3\\\\\n",
        "y(0)=y_0\\\\\n",
        "t \\text{ in } [0, 1]\n",
        "\\end{matrix}\n",
        "\\right.\n",
        "$$\n",
        "\n",
        "The exact solution for this ODE is\n",
        "$$y(t)=3e^{t^2/2}-t^2-2$$\n",
        "for $y(0)=1$."
      ],
      "metadata": {
        "id": "Ktn8LQTSDSDi"
      }
    },
    {
      "cell_type": "code",
      "source": [],
      "metadata": {
        "id": "J0noPC1sBECl"
      },
      "execution_count": null,
      "outputs": []
    },
    {
      "cell_type": "code",
      "source": [],
      "metadata": {
        "id": "RIMp6oksEPEy"
      },
      "execution_count": null,
      "outputs": []
    }
  ]
}