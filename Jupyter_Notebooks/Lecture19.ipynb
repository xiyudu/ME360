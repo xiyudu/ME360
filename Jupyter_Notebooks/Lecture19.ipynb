{
  "nbformat": 4,
  "nbformat_minor": 0,
  "metadata": {
    "colab": {
      "provenance": []
    },
    "kernelspec": {
      "name": "python3",
      "display_name": "Python 3"
    },
    "language_info": {
      "name": "python"
    }
  },
  "cells": [
    {
      "cell_type": "markdown",
      "source": [
        "## Lecture 19\n",
        "We will learn how to use Python to perform Gaussian Elimination and PA=LU using this jupyter notebook.\n",
        "\n",
        "We will first go through some more list and numpy array tricks.\n",
        "1. Loops for a list\n",
        "2. Row/Column summation for Numpy arrays"
      ],
      "metadata": {
        "id": "g7Os87TUIy7H"
      }
    },
    {
      "cell_type": "code",
      "source": [
        "### write your imports here\n",
        "import numpy as np\n",
        "\n",
        "import matplotlib.pyplot as plt\n",
        "from matplotlib import rc\n",
        "\n",
        "plt.rcParams['xtick.labelsize']=25      # change the tick label size for x axis\n",
        "plt.rcParams['ytick.labelsize']=25      # change the tick label size for x axis\n",
        "plt.rcParams['axes.linewidth']=3        # change the line width of the axis\n",
        "plt.rcParams['xtick.major.width'] = 3   # change the tick line width of x axis\n",
        "plt.rcParams['ytick.major.width'] = 3   # change the tick line width of y axis \n",
        "rc('text', usetex=False)                # disable LaTeX rendering in plots\n",
        "rc('font',**{'family':'DejaVu Sans'})   # set the font of the plot to be DejaVu Sans"
      ],
      "metadata": {
        "id": "Go0jbgW2JESz"
      },
      "execution_count": null,
      "outputs": []
    },
    {
      "cell_type": "markdown",
      "source": [
        "### Gaussian Elimination\n",
        "\n",
        "In Lecture 12, we went through the general construct of Gaussian Elimination and wrote pseudo code for the whole process as follows:\n",
        "\n",
        "```\n",
        "for j = 1:n-1\n",
        "  if abs(a(j,j)) < eps\n",
        "    error(\"zero pivot encountered\")\n",
        "  end\n",
        "  for i = j+1:n\n",
        "    mult = a(i,j)/a(j,j)\n",
        "    for k = j+1:n\n",
        "      a(i,k)=a(i,k)-mult*a(j,k)\n",
        "    end\n",
        "    b(i) = b(i)-mult*b(j)\n",
        "  end\n",
        "end\n",
        "```\n",
        "\n",
        "Now we need to turn this pseudo code into something Python would run.\n",
        "\n",
        "Since we will be using this algorithm many many times, let's write it in function form."
      ],
      "metadata": {
        "id": "bhH8mjFcMseu"
      }
    },
    {
      "cell_type": "code",
      "source": [
        "### of course you can name your function anything\n",
        "### but as a good practice, you want to increase your readability of the code\n",
        "### so here our function is called \"gaussian_elimination\", and\n",
        "### the input variables are:\n",
        "### A: matrix with all the coefficients\n",
        "### b: vector of the right side of the equations\n",
        "### eps: a number close to zero to indicate whether we have \"zero pivot\"\n",
        "def gaussian_elimination(A, b, eps=1e-8):\n",
        "  ### write your algorithm here\n",
        "  return A, b"
      ],
      "metadata": {
        "id": "xnSQL9SEMvBq"
      },
      "execution_count": null,
      "outputs": []
    },
    {
      "cell_type": "markdown",
      "source": [
        "Here are some pre-entered tests"
      ],
      "metadata": {
        "id": "7KLsy4bAW2EP"
      }
    },
    {
      "cell_type": "code",
      "source": [
        "A = np.array([[2, -3],\n",
        "             [5, -6]], dtype=np.float64)\n",
        "b = np.array([2, 8], dtype=np.float64)\n",
        "A = np.array([[1, 1],\n",
        "             [3, -4]], dtype=np.float64)\n",
        "b = np.array([3, 2], dtype=np.float64)\n",
        "A = np.array([[1, 2, -1],\n",
        "              [2, 1, -2],\n",
        "              [-3, 1, 1]], dtype=np.float64)\n",
        "b = np.array([3, 3, -6], dtype=np.float64)\n",
        "\n",
        "C, d = gaussian_elimination(A, b)\n",
        "print(A, b)\n",
        "### note here that A[i,i] are not zeros.  this is intentional with the code as \n",
        "### we will never use that entry again in back substitution so not assigning\n",
        "### the entry to zero saves us some time\n",
        "print(C, d)"
      ],
      "metadata": {
        "id": "8_y2pqU--nfH"
      },
      "execution_count": null,
      "outputs": []
    },
    {
      "cell_type": "markdown",
      "source": [
        "### Back Substitution\n",
        "We never wrote pseudo code of back substitution in class, but we have performed it many times.  And the steps are roughly the following\n",
        "```\n",
        "x(n) = b(n)/a(n,n)\n",
        "x(n-1) = (b(n-1)-a(n-1,n)*x(n))/a(n-1, n-1)\n",
        "x(n-2) = (b(n-2)-a(n-2,n)*x(n)-a(n-2, n-1)*x(n-1)/a(n-2, n-2)\n",
        "...\n",
        "```\n",
        "\n",
        "To write it in loop format, we get\n",
        "```\n",
        "x(n) = b(n)/a(n,n)\n",
        "for i=n-1:1\n",
        "  for j=n:i\n",
        "    b(i)= b(i)-a(i,j)*x(j)\n",
        "  x(i) = b(i)/a(i,i)\n",
        "```"
      ],
      "metadata": {
        "id": "4Mg2Pd_YCFH1"
      }
    },
    {
      "cell_type": "code",
      "source": [
        "def back_substitution(A, b):\n",
        "  ### write your code here\n",
        "  return x"
      ],
      "metadata": {
        "id": "gWxMXLs9-3hV"
      },
      "execution_count": null,
      "outputs": []
    },
    {
      "cell_type": "code",
      "source": [
        "x = back_substitution(A, b)\n",
        "print(x)"
      ],
      "metadata": {
        "id": "srIy1uVwECMz"
      },
      "execution_count": null,
      "outputs": []
    },
    {
      "cell_type": "markdown",
      "source": [
        "### PA=LU\n",
        "\n",
        "For this one, we will not write the algorithm ourselves, but utilize the bulit-in numpy and scipy functions."
      ],
      "metadata": {
        "id": "VQHYAKBcMwnG"
      }
    },
    {
      "cell_type": "code",
      "source": [
        "# the LU decomposition function is in scipy not numpy\n",
        "# documentation on the function: \n",
        "# https://docs.scipy.org/doc/scipy/reference/generated/scipy.linalg.lu.html\n",
        "from scipy.linalg import lu\n",
        "\n",
        "A = np.array([[1, 2, -1],\n",
        "              [2, 1, -2],\n",
        "              [-3, 1, 1]], dtype=np.float64)\n",
        "b = np.array([3, 3, -6], dtype=np.float64)\n",
        "\n",
        "### find P, L, U"
      ],
      "metadata": {
        "id": "MWfjXgs1MyEg"
      },
      "execution_count": null,
      "outputs": []
    },
    {
      "cell_type": "markdown",
      "source": [
        "### Two-step back substitution\n",
        "\n",
        "Now there are two steps to the back substitution.  For the second step, we can use the same algorithm we wrote before for Naive Gaussian Elimination, but for the first step, we need to write a \"forward\" substitution, as L is a lower triangular matrix."
      ],
      "metadata": {
        "id": "zGDAs0gtOP-E"
      }
    },
    {
      "cell_type": "code",
      "source": [
        "def forward_substitution(L, b):\n",
        "  ### write your code here\n",
        "  return x"
      ],
      "metadata": {
        "id": "-sC5Bs-eJmp6"
      },
      "execution_count": null,
      "outputs": []
    },
    {
      "cell_type": "code",
      "source": [
        "c = forward_substitution(L, np.dot(P,b))\n",
        "x = back_substitution(U, c)\n",
        "print(x)\n",
        "print(np.dot(A, x))"
      ],
      "metadata": {
        "id": "OCz4rLjVID7N"
      },
      "execution_count": null,
      "outputs": []
    },
    {
      "cell_type": "code",
      "source": [],
      "metadata": {
        "id": "DQJ7C2MeJ0PU"
      },
      "execution_count": null,
      "outputs": []
    }
  ]
}
