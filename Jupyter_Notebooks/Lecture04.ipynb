{
 "cells": [
  {
   "cell_type": "markdown",
   "metadata": {
    "id": "pKeMJV92KHwU"
   },
   "source": [
    "# Introduction to Python and Jupyter Notebook"
   ]
  },
  {
   "cell_type": "markdown",
   "metadata": {
    "id": "ciQVuUCnKHwV"
   },
   "source": [
    "(Acknowledgement: this tutorial is adapted from a tutorial notebook developed for AM201 at Harvard University)\n",
    "\n",
    "This tutorial will introduce relevant python packages for this course and the web-based interactive python environment: Jupyter notebook. Coding examples will be given. Hope you find it helpful and like it!"
   ]
  },
  {
   "cell_type": "markdown",
   "metadata": {
    "id": "peKGVe9sKHwW"
   },
   "source": [
    "This tutorial is hopefully suitable for beginners. If you are new to programming and find difficulties in understanding the two major examples at the end, please don't hesitate to let me know. I'll be glad to help you get on track quickly."
   ]
  },
  {
   "cell_type": "markdown",
   "metadata": {
    "id": "G03J7J2zKHwf"
   },
   "source": [
    "## I. Jupyter notebook"
   ]
  },
  {
   "cell_type": "markdown",
   "metadata": {
    "id": "chBACFNgKHwf"
   },
   "source": [
    "Jupyter Notebook (Formerly IPython Notebooks) is a web-based interactive computational environment for creating Jupyter notebooks documents."
   ]
  },
  {
   "cell_type": "markdown",
   "metadata": {
    "id": "3VGQTjnfKHwg"
   },
   "source": [
    "<div class=\"alert alert-block alert-info\">\n",
    "<b>Tip:</b> Cell has two major interchangeable types: <b> Code </b> and <b> Markdown </b> (excellent text editor)\n",
    "</div>"
   ]
  },
  {
   "cell_type": "markdown",
   "metadata": {
    "id": "FyDoUkeaKHwg"
   },
   "source": [
    "<div class=\"alert alert-block alert-info\">\n",
    "<b>Tip:</b> Double-click every Markdown cells in this tutorial to see features.\n",
    "</div>"
   ]
  },
  {
   "cell_type": "markdown",
   "metadata": {
    "id": "wxJGJY7nKHwh"
   },
   "source": [
    "### Markdown cells"
   ]
  },
  {
   "cell_type": "code",
   "execution_count": null,
   "metadata": {
    "id": "bfbet3Q_nSkY"
   },
   "outputs": [],
   "source": []
  },
  {
   "cell_type": "markdown",
   "metadata": {
    "id": "KksxaWGcKHwj"
   },
   "source": [
    "Before playing with python in these notebooks, I'd like to first introduce a huge convenience of Jupyter notebook which is it features Markdown cells, which is a text editor with various styles of text supported."
   ]
  },
  {
   "cell_type": "markdown",
   "metadata": {
    "id": "p7548B1TKHwj"
   },
   "source": [
    "**This** notebook itself is a Jupyter notebook. You can either save this file as *.ipynb file to your local computer and open with your own Jupyter notebook reader, or save this file to your google drive and use Google Colab to play with it.\n",
    "\n",
    "Then start playing!"
   ]
  },
  {
   "cell_type": "markdown",
   "metadata": {
    "id": "pLXybKITKHwk"
   },
   "source": [
    "#### Basic features"
   ]
  },
  {
   "cell_type": "markdown",
   "metadata": {
    "id": "M0Efh4jRKHwk"
   },
   "source": [
    "1. When you hit `esc`, then hit `m`, you turn the cell from code into Markdown. hit `esc` then `y` brings the cell back to codes.\n",
    "\n",
    "\n",
    "2. After typing, you should also hit `shift+return/enter` to turn Markdown cell into display. Also hit `shift+return/enter` to run codes\n",
    "\n",
    "\n",
    "3. When you hit `esc` then `1`, it gives you the 1st order title. Esc+2 is the 2nd order title and so on. Equivalently, after turning a cell into Markdown, you can type $n$ \"#\" and type your $n$th title after it.\n",
    "\n",
    "\n",
    "4. Enumeration is automatically styled. You'll see the text of an enumeration is blue before you hit shift+return.\n",
    "\n",
    "\n",
    "5. Compatible to latex style equations for both \"inline\" style and \"display\" style of latex. Example: $e^{i\\pi}+1=0$ $$e^{i\\pi}+1=0$$\n",
    "\n",
    "\n",
    "6. <b> Bold </b> and <i>Italic</i>\n",
    "\n",
    "\n",
    "7. To create a new cell, click \"+\" in the toolbar or hit `esc` then `b`\n",
    "\n",
    "\n",
    "8. To delete a cell, the quickest way is `esc` then `x`. This is cut option. You can use `esc` then `v` to paste it somewhere else\n",
    "\n",
    "\n",
    "9. For faster operation, hit `command (control)+shift+p` or click the keyboard icon in the toolbar to see shortcuts. (hitting esc enters the command mode)"
   ]
  },
  {
   "cell_type": "markdown",
   "metadata": {
    "id": "aRwyn4iQKHwl"
   },
   "source": [
    "Automatic styling of enumeration:"
   ]
  },
  {
   "cell_type": "markdown",
   "metadata": {
    "id": "KxwiEA7gKHwl"
   },
   "source": [
    "- Bullet 1\n",
    "    - Bullet 2\n",
    "        - Bullet 3"
   ]
  },
  {
   "cell_type": "markdown",
   "metadata": {
    "id": "Po57gNLBKHwm"
   },
   "source": [
    "1. Point 1\n",
    "    1. Point 1.1\n",
    "        1. Point 1.1.1"
   ]
  },
  {
   "cell_type": "markdown",
   "metadata": {
    "id": "xLpjk8VnKHwm"
   },
   "source": [
    "<u> Summary of shortcuts </u>\n",
    "\n",
    "- `esc` + `b`: Create new cell below\n",
    "- `esc` + `m`: Change cell to Markdown\n",
    "- `esc` + `y`: Change cell to Code\n",
    "- `esc` + `dd`: Delete cell (The description in the command palette is amazingly misleading..)\n",
    "- `esc` + `z`: Undo cell deletion\n",
    "- `esc` + `x`: Cut cell\n",
    "- `esc` + `v`: Paste cell\n",
    "- `shift` + `return`: Run a cell\n",
    "- `esc` + `ii`: Kill a running cell (To complecated, or infinite loop)\n",
    "- `esc` + `f`: Find and replace\n",
    "- `esc` + `1-4`: Creating titles level 1 to 5\n",
    "- ..."
   ]
  },
  {
   "cell_type": "markdown",
   "metadata": {
    "id": "3lO0bm0tKHwn"
   },
   "source": [
    "#### Code illustration"
   ]
  },
  {
   "cell_type": "markdown",
   "metadata": {
    "id": "tsNG2mrtKHwo"
   },
   "source": [
    "Double-click cell below to see code. It can be easily turn into runable codes by changing the cell type to Code and delete the first and the last line."
   ]
  },
  {
   "cell_type": "markdown",
   "metadata": {
    "id": "XEwvLJjjKHwo"
   },
   "source": [
    "\n",
    "print(\"Hello World\")\n",
    "\n"
   ]
  },
  {
   "cell_type": "markdown",
   "metadata": {
    "id": "ncMPA_KEKHwp"
   },
   "source": [
    "# Title 1\n",
    "## Title 2\n",
    "### Title 3\n",
    "#### Title 4\n",
    "##### Title 5"
   ]
  },
  {
   "cell_type": "markdown",
   "metadata": {
    "id": "69FYtZkjKHwp"
   },
   "source": [
    "### Doing python in Jupyter notebooks"
   ]
  },
  {
   "cell_type": "markdown",
   "metadata": {
    "id": "xpRDP-cmKHwq"
   },
   "source": [
    "If you are a Mathematica user you are automatically familiar with jupyter notebooks. Just type as many lines of python codes in a cell as you like and hit `shift+enter/return`. In short, Jupyter notebooks\n",
    "\n",
    "1. Evaluate individual cell at a time\n",
    "2. Considers every cell evaluated previously when evaluating a new cell"
   ]
  },
  {
   "cell_type": "code",
   "execution_count": null,
   "metadata": {
    "colab": {
     "base_uri": "https://localhost:8080/",
     "height": 34
    },
    "id": "riRL0DCMKHwr",
    "outputId": "0b811403-7e07-47a4-de51-297cb5a6ab05"
   },
   "outputs": [
    {
     "data": {
      "text/plain": [
       "6.3"
      ]
     },
     "execution_count": 2,
     "metadata": {
      "tags": []
     },
     "output_type": "execute_result"
    }
   ],
   "source": [
    "a=1.3 # don't have to declare\n",
    "a+5"
   ]
  },
  {
   "cell_type": "markdown",
   "metadata": {
    "id": "zBcLPbmyKHww"
   },
   "source": [
    "If one of your code sentence is longer than a line, use `\\`"
   ]
  },
  {
   "cell_type": "code",
   "execution_count": null,
   "metadata": {
    "colab": {
     "base_uri": "https://localhost:8080/",
     "height": 130
    },
    "id": "4nyVb5CAKHwx",
    "outputId": "4301e9bf-9c80-4a54-8ff8-46b4cff3309a"
   },
   "outputs": [
    {
     "ename": "SyntaxError",
     "evalue": "ignored",
     "output_type": "error",
     "traceback": [
      "\u001b[0;36m  File \u001b[0;32m\"<ipython-input-3-0a97f642cfb2>\"\u001b[0;36m, line \u001b[0;32m1\u001b[0m\n\u001b[0;31m    1+\u001b[0m\n\u001b[0m      ^\u001b[0m\n\u001b[0;31mSyntaxError\u001b[0m\u001b[0;31m:\u001b[0m invalid syntax\n"
     ]
    }
   ],
   "source": [
    "1+\n",
    "1"
   ]
  },
  {
   "cell_type": "code",
   "execution_count": null,
   "metadata": {
    "colab": {
     "base_uri": "https://localhost:8080/",
     "height": 34
    },
    "id": "IlfcnNjIKHwz",
    "outputId": "be5a0986-b0d5-4752-c79b-e4653226ace2"
   },
   "outputs": [
    {
     "data": {
      "text/plain": [
       "2"
      ]
     },
     "execution_count": 4,
     "metadata": {
      "tags": []
     },
     "output_type": "execute_result"
    }
   ],
   "source": [
    "1+ \\\n",
    "1"
   ]
  },
  {
   "cell_type": "markdown",
   "metadata": {
    "id": "kyAMiWAuKHw2"
   },
   "source": [
    "<div class=\"alert alert-block alert-info\">\n",
    "<b>Tip:</b> If you forgot a particular usage/structure/syntax, Google it or look for the help documents\n",
    "</div>"
   ]
  },
  {
   "cell_type": "code",
   "execution_count": null,
   "metadata": {
    "colab": {
     "base_uri": "https://localhost:8080/",
     "height": 1000
    },
    "id": "VWbYTwDdKHw2",
    "outputId": "ff73c53b-1c3b-412a-f7f7-b60e0f568045"
   },
   "outputs": [
    {
     "name": "stdout",
     "output_type": "stream",
     "text": [
      "Help on class list in module builtins:\n",
      "\n",
      "class list(object)\n",
      " |  list() -> new empty list\n",
      " |  list(iterable) -> new list initialized from iterable's items\n",
      " |  \n",
      " |  Methods defined here:\n",
      " |  \n",
      " |  __add__(self, value, /)\n",
      " |      Return self+value.\n",
      " |  \n",
      " |  __contains__(self, key, /)\n",
      " |      Return key in self.\n",
      " |  \n",
      " |  __delitem__(self, key, /)\n",
      " |      Delete self[key].\n",
      " |  \n",
      " |  __eq__(self, value, /)\n",
      " |      Return self==value.\n",
      " |  \n",
      " |  __ge__(self, value, /)\n",
      " |      Return self>=value.\n",
      " |  \n",
      " |  __getattribute__(self, name, /)\n",
      " |      Return getattr(self, name).\n",
      " |  \n",
      " |  __getitem__(...)\n",
      " |      x.__getitem__(y) <==> x[y]\n",
      " |  \n",
      " |  __gt__(self, value, /)\n",
      " |      Return self>value.\n",
      " |  \n",
      " |  __iadd__(self, value, /)\n",
      " |      Implement self+=value.\n",
      " |  \n",
      " |  __imul__(self, value, /)\n",
      " |      Implement self*=value.\n",
      " |  \n",
      " |  __init__(self, /, *args, **kwargs)\n",
      " |      Initialize self.  See help(type(self)) for accurate signature.\n",
      " |  \n",
      " |  __iter__(self, /)\n",
      " |      Implement iter(self).\n",
      " |  \n",
      " |  __le__(self, value, /)\n",
      " |      Return self<=value.\n",
      " |  \n",
      " |  __len__(self, /)\n",
      " |      Return len(self).\n",
      " |  \n",
      " |  __lt__(self, value, /)\n",
      " |      Return self<value.\n",
      " |  \n",
      " |  __mul__(self, value, /)\n",
      " |      Return self*value.\n",
      " |  \n",
      " |  __ne__(self, value, /)\n",
      " |      Return self!=value.\n",
      " |  \n",
      " |  __new__(*args, **kwargs) from builtins.type\n",
      " |      Create and return a new object.  See help(type) for accurate signature.\n",
      " |  \n",
      " |  __repr__(self, /)\n",
      " |      Return repr(self).\n",
      " |  \n",
      " |  __reversed__(...)\n",
      " |      L.__reversed__() -- return a reverse iterator over the list\n",
      " |  \n",
      " |  __rmul__(self, value, /)\n",
      " |      Return value*self.\n",
      " |  \n",
      " |  __setitem__(self, key, value, /)\n",
      " |      Set self[key] to value.\n",
      " |  \n",
      " |  __sizeof__(...)\n",
      " |      L.__sizeof__() -- size of L in memory, in bytes\n",
      " |  \n",
      " |  append(...)\n",
      " |      L.append(object) -> None -- append object to end\n",
      " |  \n",
      " |  clear(...)\n",
      " |      L.clear() -> None -- remove all items from L\n",
      " |  \n",
      " |  copy(...)\n",
      " |      L.copy() -> list -- a shallow copy of L\n",
      " |  \n",
      " |  count(...)\n",
      " |      L.count(value) -> integer -- return number of occurrences of value\n",
      " |  \n",
      " |  extend(...)\n",
      " |      L.extend(iterable) -> None -- extend list by appending elements from the iterable\n",
      " |  \n",
      " |  index(...)\n",
      " |      L.index(value, [start, [stop]]) -> integer -- return first index of value.\n",
      " |      Raises ValueError if the value is not present.\n",
      " |  \n",
      " |  insert(...)\n",
      " |      L.insert(index, object) -- insert object before index\n",
      " |  \n",
      " |  pop(...)\n",
      " |      L.pop([index]) -> item -- remove and return item at index (default last).\n",
      " |      Raises IndexError if list is empty or index is out of range.\n",
      " |  \n",
      " |  remove(...)\n",
      " |      L.remove(value) -> None -- remove first occurrence of value.\n",
      " |      Raises ValueError if the value is not present.\n",
      " |  \n",
      " |  reverse(...)\n",
      " |      L.reverse() -- reverse *IN PLACE*\n",
      " |  \n",
      " |  sort(...)\n",
      " |      L.sort(key=None, reverse=False) -> None -- stable sort *IN PLACE*\n",
      " |  \n",
      " |  ----------------------------------------------------------------------\n",
      " |  Data and other attributes defined here:\n",
      " |  \n",
      " |  __hash__ = None\n",
      "\n"
     ]
    }
   ],
   "source": [
    "help(list)"
   ]
  },
  {
   "cell_type": "markdown",
   "metadata": {
    "id": "atwXEVYmKHw5"
   },
   "source": [
    "Or even simpler: execute with a \"?\""
   ]
  },
  {
   "cell_type": "code",
   "execution_count": null,
   "metadata": {
    "id": "vlTx9RtzKHw5"
   },
   "outputs": [],
   "source": [
    "list?"
   ]
  },
  {
   "cell_type": "markdown",
   "metadata": {
    "id": "nowxAH59KHw9"
   },
   "source": [
    "## II. Core python language"
   ]
  },
  {
   "cell_type": "markdown",
   "metadata": {
    "id": "JUKtZlY_KHw-"
   },
   "source": [
    "(Python official tutorial: https://docs.python.org/3/tutorial/)"
   ]
  },
  {
   "cell_type": "markdown",
   "metadata": {
    "id": "jeM9ybclKHxA"
   },
   "source": [
    "Python is a high-level, dynamically typed multiparadigm programming language. Python code is often said to be almost like pseudocode, since it allows you to express very powerful ideas in very few lines of code while being very readable. As an example, here is an implementation of the classic <b> quicksort </b> algorithm in Python. You might be impressed by its high readability:"
   ]
  },
  {
   "cell_type": "markdown",
   "metadata": {
    "id": "u0ktqPH4KHxC"
   },
   "source": [
    "```python\n",
    "def quicksort(numlist): # numlist is a list of unsorted numbers to be sorted\n",
    "    if len(numlist) <= 1:\n",
    "        return numlist # If length smaller than 1, arr is already sorted\n",
    "    pivot = numlist[len(numlist) // 2] # // gives the ceiling integer. 11//2=5\n",
    "    left = [x for x in numlist if x < pivot] # like \"for x in numlist, if x<pivot, collect x into a list 'left'\"\n",
    "    middle = [x for x in numlist if x == pivot]\n",
    "    right = [x for x in numlist if x > pivot]\n",
    "    return quicksort(left) + middle + quicksort(right) # recursively sort\n",
    "\n",
    "print(quicksort([3,6,8,10,1,2,1]))\n",
    "# Prints \"[1, 1, 2, 3, 6, 8, 10]\"\n",
    "```"
   ]
  },
  {
   "cell_type": "markdown",
   "metadata": {
    "id": "KgDepVfLKHxD"
   },
   "source": [
    "<div class=\"alert alert-block alert-info\">\n",
    "<b>Tip:</b> Here `quicksort()` is a function, `numlist` is a list of numbers provided when invoking this function. Functions in python are defined in a similar way as in other languages.\n",
    "</div>"
   ]
  },
  {
   "cell_type": "markdown",
   "metadata": {
    "id": "khKCOlVHKHxD"
   },
   "source": [
    "By just reading it in the sense of reading English, we already can summarize the quicksort algorithm:\n",
    "\n",
    "- For an unsorted array <i> arr </i>, choose the number currently at middle position as a reference \"pivot\"\n",
    "- Use lists <i> left </i>, <i> middle </i> and <i> right </i> to collect numbers that are smaller than, equal to, and larger than pivot.\n",
    "- Sort the original list into (left)+(middle)+(right) form.\n",
    "- Apply above procedure to <i> left </i> and <i> right </i> recursively"
   ]
  },
  {
   "cell_type": "markdown",
   "metadata": {
    "id": "7hORsTg_KHxE"
   },
   "source": [
    "The major contribution to the readability in the above example is the <b> list comprehension</b> technique. We will give more examples about this elegant technique later."
   ]
  },
  {
   "cell_type": "markdown",
   "metadata": {
    "id": "Q1Li-6NXKHxE"
   },
   "source": [
    "### Python versions"
   ]
  },
  {
   "cell_type": "markdown",
   "metadata": {
    "id": "JytjubhcKHxE"
   },
   "source": [
    "There are currently two different supported versions of Python, 2.7 and 3.x (currently 3.8). Little incompatibilities (such as the print function) exist between python 2 and 3. For this course we'll all use python 3.x.\n",
    "\n",
    "\n",
    "Let's check the system version first"
   ]
  },
  {
   "cell_type": "code",
   "execution_count": null,
   "metadata": {
    "colab": {
     "base_uri": "https://localhost:8080/",
     "height": 35
    },
    "id": "ulDFNBrJKHxF",
    "outputId": "38a6927f-08fd-4608-e102-6cd20ceca08a"
   },
   "outputs": [
    {
     "data": {
      "application/vnd.google.colaboratory.intrinsic+json": {
       "type": "string"
      },
      "text/plain": [
       "'3.8.16 (default, Dec  7 2022, 01:12:13) \\n[GCC 7.5.0]'"
      ]
     },
     "execution_count": 1,
     "metadata": {},
     "output_type": "execute_result"
    }
   ],
   "source": [
    "import sys\n",
    "sys.version"
   ]
  },
  {
   "cell_type": "markdown",
   "metadata": {
    "id": "EdY__e2-KHxH"
   },
   "source": [
    "### Basic data types"
   ]
  },
  {
   "cell_type": "markdown",
   "metadata": {
    "id": "NaAiRRSEKHxI"
   },
   "source": [
    "Like most languages, Python has a number of basic types including integers, floats, booleans, and strings. These data types behave in ways that are familiar from other programming languages."
   ]
  },
  {
   "cell_type": "markdown",
   "metadata": {
    "id": "kcLwXEuYKHxI"
   },
   "source": [
    "<div class=\"alert alert-block alert-info\">\n",
    "<b>Tip:</b> Variables don't have to be declared before use.\n",
    "</div>"
   ]
  },
  {
   "cell_type": "markdown",
   "metadata": {
    "id": "Myy5rZGoKHxI"
   },
   "source": [
    "<b>Numbers:</b> Integers and floats work as you would expect from other languages:"
   ]
  },
  {
   "cell_type": "markdown",
   "metadata": {
    "id": "7DURCFUhKHxJ"
   },
   "source": [
    "```python\n",
    "x = 3\n",
    "print(type(x)) # Prints \"<class 'int'>\"\n",
    "print(x)       # Prints \"3\"\n",
    "print(x + 1)   # Addition; prints \"4\"\n",
    "print(x - 1)   # Subtraction; prints \"2\"\n",
    "print(x * 2)   # Multiplication; prints \"6\"\n",
    "print(x ** 2)  # Exponentiation; prints \"9\"\n",
    "x += 1\n",
    "print(x)  # Prints \"4\"\n",
    "x *= 2\n",
    "print(x)  # Prints \"8\"\n",
    "y = 2.5\n",
    "print(type(y)) # Prints \"<class 'float'>\"\n",
    "print(y, y + 1, y * 2, y ** 2) # Prints \"2.5 3.5 5.0 6.25\"\n",
    "```"
   ]
  },
  {
   "cell_type": "markdown",
   "metadata": {
    "id": "We764Vw5KHxJ"
   },
   "source": [
    "<b>Booleans</b>: Python implements all of the usual operators for Boolean logic, but uses <b>English words</b> rather than symbols (&&, || in Mathematica):"
   ]
  },
  {
   "cell_type": "markdown",
   "metadata": {
    "id": "sBGSchRqKHxL"
   },
   "source": [
    "```python\n",
    "t = True\n",
    "f = False\n",
    "print(type(t)) # Prints \"<class 'bool'>\"\n",
    "print(t and f) # Logical AND; prints \"False\"\n",
    "print(t or f)  # Logical OR; prints \"True\"\n",
    "print(not t)   # Logical NOT; prints \"False\"\n",
    "print(t != f)  # Logical XOR; prints \"True\"\n",
    "```"
   ]
  },
  {
   "cell_type": "markdown",
   "metadata": {
    "id": "PhWJvnfXKHxM"
   },
   "source": [
    "#### Operations"
   ]
  },
  {
   "cell_type": "markdown",
   "metadata": {
    "id": "C3T9sdNHKHxM"
   },
   "source": [
    "Close to matlab. `*` for product should be explicitly written. However things like `a:b:c` for creating arrays in MATLAB are not supported in python."
   ]
  },
  {
   "cell_type": "markdown",
   "metadata": {
    "id": "vWtbSTLHKHxM"
   },
   "source": [
    "<div class=\"alert alert-block alert-warning\">\n",
    "<b>Warning:</b> No `a++ a--` are allowed\n",
    "</div>"
   ]
  },
  {
   "cell_type": "code",
   "execution_count": null,
   "metadata": {
    "colab": {
     "base_uri": "https://localhost:8080/",
     "height": 133
    },
    "id": "L2tgX1_2KHxN",
    "outputId": "cb11ff1e-823b-4c7e-cea5-7f40a7fb6c5e"
   },
   "outputs": [
    {
     "ename": "SyntaxError",
     "evalue": "ignored",
     "output_type": "error",
     "traceback": [
      "\u001b[0;36m  File \u001b[0;32m\"<ipython-input-2-c9caa46d2a81>\"\u001b[0;36m, line \u001b[0;32m2\u001b[0m\n\u001b[0;31m    x++\u001b[0m\n\u001b[0m       ^\u001b[0m\n\u001b[0;31mSyntaxError\u001b[0m\u001b[0;31m:\u001b[0m invalid syntax\n"
     ]
    }
   ],
   "source": [
    "x=1;\n",
    "x++"
   ]
  },
  {
   "cell_type": "markdown",
   "metadata": {
    "id": "HKvgNl6iKHxS"
   },
   "source": [
    "<div class=\"alert alert-block alert-info\">\n",
    "<b>Tip:</b> Use `**` for exponentials. `^` does a \"bitwise exclusive or\"\n",
    "</div>"
   ]
  },
  {
   "cell_type": "markdown",
   "metadata": {
    "id": "1JK8RBPoKHxS"
   },
   "source": [
    "You'll be familiar with basic data types quickly after you read and write some sample codes."
   ]
  },
  {
   "cell_type": "markdown",
   "metadata": {
    "id": "Q6PNjdFVKHxS"
   },
   "source": [
    "### Containers"
   ]
  },
  {
   "cell_type": "markdown",
   "metadata": {
    "id": "giSyj5H8KHxT"
   },
   "source": [
    "Python includes several built-in container types: lists, dictionaries, sets, and tuples. <b> Lists and NumPy arrays </b> are widely used in this course."
   ]
  },
  {
   "cell_type": "markdown",
   "metadata": {
    "id": "S12F5tKMKHxU"
   },
   "source": [
    "Dictionaries: `key` + `value` pairs. Will see an example later."
   ]
  },
  {
   "cell_type": "markdown",
   "metadata": {
    "id": "tZJ9x9xyKHxU"
   },
   "source": [
    "Sets: similar to lists but contain no identical elements. `{1,2,3}`"
   ]
  },
  {
   "cell_type": "markdown",
   "metadata": {
    "id": "zcPOvOrHKHxV"
   },
   "source": [
    "Tuples: also similar to lists and sets. Immutable. `(1,2,3)`"
   ]
  },
  {
   "cell_type": "markdown",
   "metadata": {
    "id": "uUlrB0bgKHxV"
   },
   "source": [
    "#### Lists"
   ]
  },
  {
   "cell_type": "markdown",
   "metadata": {
    "id": "LrqjqWnnKHxW"
   },
   "source": [
    "A list is the Python equivalent of an array, but is resizeable and can contain elements of different types:"
   ]
  },
  {
   "cell_type": "markdown",
   "metadata": {
    "id": "IdGZGaBFKHxW"
   },
   "source": [
    "```python\n",
    "xs = [3, 1, 2]    # Create a list\n",
    "print(xs, xs[2])  # Prints \"[3, 1, 2] 2\"\n",
    "print(xs[-1])     # Negative indices count from the end of the list; prints \"2\"\n",
    "xs[2] = 'foo'     # Lists can contain elements of different types\n",
    "print(xs)         # Prints \"[3, 1, 'foo']\"\n",
    "xs.append('bar')  # Add a new element to the end of the list\n",
    "print(xs)         # Prints \"[3, 1, 'foo', 'bar']\"\n",
    "x = xs.pop()      # Remove and return the last element of the list\n",
    "print(x, xs)      # Prints \"bar [3, 1, 'foo']\"\n",
    "```"
   ]
  },
  {
   "cell_type": "markdown",
   "metadata": {
    "id": "kuPQTtQrKHxW"
   },
   "source": [
    "<div class=\"alert alert-block alert-info\">\n",
    "<b>Tip:</b> Python indices count from 0.\n",
    "</div>"
   ]
  },
  {
   "cell_type": "markdown",
   "metadata": {
    "id": "mS-dgZCGKHxX"
   },
   "source": [
    "##### Slicing a list"
   ]
  },
  {
   "cell_type": "markdown",
   "metadata": {
    "id": "bKPxuOQuKHxX"
   },
   "source": [
    "We've just seen that we can use a square bracket to access an element of a list. In addition to accessing list elements one at a time, Python provides concise syntax to access sublists; this is known as slicing:"
   ]
  },
  {
   "cell_type": "markdown",
   "metadata": {
    "id": "EDIhbFZQKHxX"
   },
   "source": [
    "```python\n",
    "nums = list(range(5))     # range is a built-in function that creates a list of integers\n",
    "print(nums)               # Prints \"[0, 1, 2, 3, 4]\"\n",
    "print(nums[2:4])          # Get a slice from index 2 to 4 (exclusive); prints \"[2, 3]\"\n",
    "print(nums[2:])           # Get a slice from index 2 to the end; prints \"[2, 3, 4]\"\n",
    "print(nums[:2])           # Get a slice from the start to index 2 (exclusive); prints \"[0, 1]\"\n",
    "print(nums[:])            # Get a slice of the whole list; prints \"[0, 1, 2, 3, 4]\"\n",
    "print(nums[:-1])          # Slice indices can be negative; prints \"[0, 1, 2, 3]\"\n",
    "nums[2:4] = [8, 9]        # Assign a new sublist to a slice\n",
    "print(nums)               # Prints \"[0, 1, 8, 9, 4]\"\n",
    "```"
   ]
  },
  {
   "cell_type": "markdown",
   "metadata": {
    "id": "asSqRxFxKHxY"
   },
   "source": [
    "##### Loops"
   ]
  },
  {
   "cell_type": "markdown",
   "metadata": {
    "id": "8g6gNf5LKHxY"
   },
   "source": [
    "You can loop over the elements of a list like this:"
   ]
  },
  {
   "cell_type": "markdown",
   "metadata": {
    "id": "GmxGAIrxKHxZ"
   },
   "source": [
    "```python\n",
    "animals = ['cat', 'dog', 'monkey']\n",
    "for animal in animals:\n",
    "    print(animal)\n",
    "# Prints \"cat\", \"dog\", \"monkey\", each on its own line.\n",
    "```"
   ]
  },
  {
   "cell_type": "markdown",
   "metadata": {
    "id": "kESEA_pnKHxZ"
   },
   "source": [
    "<div class=\"alert alert-block alert-info\">\n",
    "<b>Tip:</b> Pay attention to the syntax of `for ... in`\n",
    "</div>"
   ]
  },
  {
   "cell_type": "markdown",
   "metadata": {
    "id": "95XZdzGxKHxZ"
   },
   "source": [
    "An equivalent form is:"
   ]
  },
  {
   "cell_type": "markdown",
   "metadata": {
    "id": "jsdNPcggKHxa"
   },
   "source": [
    "```python\n",
    "animals = ['cat', 'dog', 'monkey']\n",
    "for i in range(animals):\n",
    "    print(animals[i])\n",
    "# Prints \"cat\", \"dog\", \"monkey\", each on its own line.\n",
    "```"
   ]
  },
  {
   "cell_type": "markdown",
   "metadata": {
    "id": "yrGZGYkgKHxa"
   },
   "source": [
    "I usually think this form is less intuitive."
   ]
  },
  {
   "cell_type": "markdown",
   "metadata": {
    "id": "3yrb6aiGKHxa"
   },
   "source": [
    "##### List comprehensions"
   ]
  },
  {
   "cell_type": "markdown",
   "metadata": {
    "id": "Z1-_9oSdKHxb"
   },
   "source": [
    "When programming, frequently we want to transform one type of data into another. As a simple example, consider the following code that computes square numbers:"
   ]
  },
  {
   "cell_type": "markdown",
   "metadata": {
    "id": "hCkCHwqsKHxb"
   },
   "source": [
    "```python\n",
    "nums = [0, 1, 2, 3, 4]\n",
    "squares = []\n",
    "for x in nums:\n",
    "    squares.append(x ** 2)\n",
    "print(squares)   # Prints [0, 1, 4, 9, 16]\n",
    "```"
   ]
  },
  {
   "cell_type": "markdown",
   "metadata": {
    "id": "t_lEsqo9KHxc"
   },
   "source": [
    "You also see how to write a `for` loop here. You may already notice that there is no bracket for the content of for loop. Instead, python use indent to identify code blocks. Usually when you type in `for x in nums:` and hit return/enter it will automatically indent for you."
   ]
  },
  {
   "cell_type": "markdown",
   "metadata": {
    "id": "_UVMPMHwKHxd"
   },
   "source": [
    "You can make this code simpler using a list comprehension:"
   ]
  },
  {
   "cell_type": "markdown",
   "metadata": {
    "id": "wrOCdESbKHxh"
   },
   "source": [
    "```python\n",
    "nums = [0, 1, 2, 3, 4]\n",
    "squares = [x ** 2 for x in nums]\n",
    "print(squares)   # Prints [0, 1, 4, 9, 16]\n",
    "```"
   ]
  },
  {
   "cell_type": "markdown",
   "metadata": {
    "id": "nKDu67T3KHxk"
   },
   "source": [
    "List comprehensions can also contain conditions (will also see later in the big example):"
   ]
  },
  {
   "cell_type": "markdown",
   "metadata": {
    "id": "ANCdHjF8KHxl"
   },
   "source": [
    "```python\n",
    "nums = [0, 1, 2, 3, 4]\n",
    "even_squares = [x ** 2 for x in nums if x % 2 == 0]\n",
    "print(even_squares)  # Prints \"[0, 4, 16]\"\n",
    "```"
   ]
  },
  {
   "cell_type": "markdown",
   "metadata": {
    "id": "Il770fobKHxm"
   },
   "source": [
    "### Functions"
   ]
  },
  {
   "cell_type": "markdown",
   "metadata": {
    "id": "dIa4hx-pKHxm"
   },
   "source": [
    "Python functions are defined using the def keyword. For example:"
   ]
  },
  {
   "cell_type": "markdown",
   "metadata": {
    "id": "SeqE6kBZKHxn"
   },
   "source": [
    "```python\n",
    "def sign(x):\n",
    "    if x > 0:\n",
    "        return 'positive'\n",
    "    elif x < 0:\n",
    "        return 'negative'\n",
    "    else:\n",
    "        return 'zero'\n",
    "\n",
    "for x in [-1, 0, 1]:\n",
    "    print(sign(x))\n",
    "# Prints \"negative\", \"zero\", \"positive\"\n",
    "```"
   ]
  },
  {
   "cell_type": "code",
   "execution_count": null,
   "metadata": {
    "colab": {
     "base_uri": "https://localhost:8080/",
     "height": 34
    },
    "id": "97aEgl4rXlWF",
    "outputId": "5c21daed-3da2-4712-b94c-d2256757efed"
   },
   "outputs": [
    {
     "data": {
      "text/plain": [
       "121"
      ]
     },
     "execution_count": 14,
     "metadata": {
      "tags": []
     },
     "output_type": "execute_result"
    }
   ],
   "source": [
    "def g(x):\n",
    "  x = x+1\n",
    "  return x**2\n",
    "\n",
    "g(10)"
   ]
  },
  {
   "cell_type": "markdown",
   "metadata": {
    "id": "szG0oEvbKHxn"
   },
   "source": [
    "You also learn how to write an `if-else` condition expression here. We can conveniently define functions with optional keyword arguments, like this:"
   ]
  },
  {
   "cell_type": "markdown",
   "metadata": {
    "id": "AVPF_op1KHxo"
   },
   "source": [
    "```python\n",
    "def hello(name, loud=False):\n",
    "    if loud:\n",
    "        print('HELLO, %s!' % name.upper())\n",
    "    else:\n",
    "        print('Hello, %s' % name)\n",
    "\n",
    "hello('Bob') # Prints \"Hello, Bob\"\n",
    "hello('Fred', loud=True)  # Prints \"HELLO, FRED!\"\n",
    "```"
   ]
  },
  {
   "cell_type": "markdown",
   "metadata": {
    "id": "pfKerUFnKHxo"
   },
   "source": [
    "In this function `hello`, if you don't provide a value to `loud` when you call the function, it will take default key value `loud=False`"
   ]
  },
  {
   "cell_type": "markdown",
   "metadata": {
    "id": "5xcxxLHfKHxp"
   },
   "source": [
    "### Classes"
   ]
  },
  {
   "cell_type": "markdown",
   "metadata": {
    "id": "F876HauzKHxp"
   },
   "source": [
    "We're not going into details about it. Understanding and use of classes are not required for this course (again, this is not a programming course!) However, <b> classes is a very important idea in programming in python</b>, so here we are going to take a glance at classes through short examples."
   ]
  },
  {
   "cell_type": "markdown",
   "metadata": {
    "id": "hx4BCOpCKHxp"
   },
   "source": [
    "Generally, Classes provide a means of bundling data and functionality together. Now we define a class of complex numbers:"
   ]
  },
  {
   "cell_type": "code",
   "execution_count": null,
   "metadata": {
    "id": "bSKuvd-mKHxq"
   },
   "outputs": [],
   "source": [
    "class Complex:\n",
    "    def __init__(self, realpart, imagpart): # initialization when creating an instance of this class.\n",
    "        #self is a pointer toward the instance and the namespace. It is called self because of convention rather than being a special character.\n",
    "        self.r = realpart\n",
    "        self.i = imagpart"
   ]
  },
  {
   "cell_type": "markdown",
   "metadata": {
    "id": "8921K4GbKHxs"
   },
   "source": [
    "The `__init__()` method is invoked automatically when you create an instance. See below."
   ]
  },
  {
   "cell_type": "code",
   "execution_count": null,
   "metadata": {
    "id": "JO-VvsyKKHxs",
    "outputId": "0b65cc1a-8aae-4df6-e482-f54b3d56433a"
   },
   "outputs": [
    {
     "data": {
      "text/plain": [
       "(3.0, -4.5)"
      ]
     },
     "execution_count": 8,
     "metadata": {
      "tags": []
     },
     "output_type": "execute_result"
    }
   ],
   "source": [
    "x = Complex(3.0, -4.5)\n",
    "x.r, x.i"
   ]
  },
  {
   "cell_type": "markdown",
   "metadata": {
    "id": "RcUesRiFKHxv"
   },
   "source": [
    "### Methods (“Functions in Classes”)"
   ]
  },
  {
   "cell_type": "markdown",
   "metadata": {
    "id": "cjtH7OPPKHxw"
   },
   "source": [
    "Roughly speaking methods are \"objects in classes\" that \"behaves like\" functions. We'll see a lot of examples of methods when we introduce NumPy. A key difference between functions and classes is:\n",
    "- functions can called only by its name; defined independently.\n",
    "- Calling methods should invoke the corresponding class; dependent on the corresponding class."
   ]
  },
  {
   "cell_type": "markdown",
   "metadata": {
    "id": "oIgM1kfZKHxw"
   },
   "source": [
    "Here is a simple example of methods:"
   ]
  },
  {
   "cell_type": "code",
   "execution_count": null,
   "metadata": {
    "id": "BgQtmFLpKHxw"
   },
   "outputs": [],
   "source": [
    "class Dog:\n",
    "\n",
    "    def __init__(self, name):\n",
    "        self.name = name\n",
    "        self.tricks = []\n",
    "\n",
    "    def add_trick(self, trick): # This is a method of the Dog class. It adds tricks to a Dog instance\n",
    "        self.tricks.append(trick)"
   ]
  },
  {
   "cell_type": "code",
   "execution_count": null,
   "metadata": {
    "id": "7balyausKHxz"
   },
   "outputs": [],
   "source": [
    "d = Dog('Fido')\n",
    "d.add_trick('roll over') # method should invoke the corresponding class"
   ]
  },
  {
   "cell_type": "code",
   "execution_count": null,
   "metadata": {
    "id": "jgo-pfs6KHx0",
    "outputId": "db810e2c-535f-408b-c2ce-57bb0ef7a3c7"
   },
   "outputs": [
    {
     "data": {
      "text/plain": [
       "'Fido'"
      ]
     },
     "execution_count": 11,
     "metadata": {
      "tags": []
     },
     "output_type": "execute_result"
    }
   ],
   "source": [
    "d.name"
   ]
  },
  {
   "cell_type": "code",
   "execution_count": null,
   "metadata": {
    "id": "3WmTfl0kKHx3",
    "outputId": "60a1ed9f-e299-4df8-8d52-2309a45d4430"
   },
   "outputs": [
    {
     "data": {
      "text/plain": [
       "['roll over']"
      ]
     },
     "execution_count": 12,
     "metadata": {
      "tags": []
     },
     "output_type": "execute_result"
    }
   ],
   "source": [
    "d.tricks"
   ]
  },
  {
   "cell_type": "markdown",
   "metadata": {
    "id": "nXzt-GYlKHx5"
   },
   "source": [
    "<div class=\"alert alert-block alert-info\">\n",
    "<b>Tip:</b> `append` is a method of `list`\n",
    "</div>"
   ]
  },
  {
   "cell_type": "markdown",
   "metadata": {
    "id": "zigCspxJKHx6"
   },
   "source": [
    "## III. Packages installed here in Google Colab (numpy, scipy, and matplotlib)"
   ]
  },
  {
   "cell_type": "markdown",
   "metadata": {
    "id": "yCbRFxvgKHx6"
   },
   "source": [
    "Most packages we will use in class should be pre-installed by your Python package distributor.  If you find installing additional packages hard, please contact me or use the Google Colab version of Python. \n",
    "\n",
    "For our class, we will mostly use three different Python packages."
   ]
  },
  {
   "cell_type": "markdown",
   "metadata": {
    "id": "1SxTfQCcKHx6"
   },
   "source": [
    "- NumPy: Deals with N-dimensional arrays. Easy import and export.\n",
    "- SciPy: Scientific functions. Equation solves may be used in this course\n",
    "- Matplotlib: Plot things similar to making plots in matlab.\n",
    "\n",
    "We will talk about NumPy in some detail here. Matplotlib will be covered in separate sections below. SciPy library will be introduced in the future if we need specific equation solvers or some other functions."
   ]
  },
  {
   "cell_type": "markdown",
   "metadata": {
    "id": "vv1w2csQKHx7"
   },
   "source": [
    "### NumPy"
   ]
  },
  {
   "cell_type": "markdown",
   "metadata": {
    "id": "xGyNSwk_KHx7"
   },
   "source": [
    "Numpy makes processing of N-dimensional arrays more easily. Here only a small fraction of NumPy is covered. Please check out the NumPy documentation: https://docs.scipy.org/doc/numpy/reference/ or try more problems and Google more (I prefer the latter)"
   ]
  },
  {
   "cell_type": "markdown",
   "metadata": {
    "id": "l2ihKTwJKHx8"
   },
   "source": [
    "I guess not many people want to type \"numpy\" again and again, so usually people import `numpy` with an alias `np`. You can use any alias you like but always keeping commonly-used alias may help improve the readability of your codes."
   ]
  },
  {
   "cell_type": "code",
   "execution_count": null,
   "metadata": {
    "id": "qKzMFEFHKHx8"
   },
   "outputs": [],
   "source": [
    "import numpy as np # import the \"collection of function\" numpy library, then use the functions"
   ]
  },
  {
   "cell_type": "code",
   "execution_count": null,
   "metadata": {
    "colab": {
     "base_uri": "https://localhost:8080/",
     "height": 181
    },
    "id": "m3JMn5pkZdqY",
    "outputId": "d93290da-7b3d-4569-c13f-3431d86af0fe"
   },
   "outputs": [
    {
     "ename": "TypeError",
     "evalue": "ignored",
     "output_type": "error",
     "traceback": [
      "\u001b[0;31m---------------------------------------------------------------------------\u001b[0m",
      "\u001b[0;31mTypeError\u001b[0m                                 Traceback (most recent call last)",
      "\u001b[0;32m<ipython-input-24-ee70815e524f>\u001b[0m in \u001b[0;36m<module>\u001b[0;34m()\u001b[0m\n\u001b[0;32m----> 1\u001b[0;31m \u001b[0ml\u001b[0m \u001b[0;34m=\u001b[0m \u001b[0;34m[\u001b[0m\u001b[0;36m1\u001b[0m\u001b[0;34m,\u001b[0m \u001b[0;36m2\u001b[0m\u001b[0;34m,\u001b[0m \u001b[0;36m3\u001b[0m\u001b[0;34m]\u001b[0m\u001b[0;34m/\u001b[0m\u001b[0;36m4\u001b[0m\u001b[0;34m\u001b[0m\u001b[0;34m\u001b[0m\u001b[0m\n\u001b[0m\u001b[1;32m      2\u001b[0m \u001b[0ml\u001b[0m\u001b[0;34m\u001b[0m\u001b[0;34m\u001b[0m\u001b[0m\n",
      "\u001b[0;31mTypeError\u001b[0m: unsupported operand type(s) for /: 'list' and 'int'"
     ]
    }
   ],
   "source": [
    "l = [1, 2, 3]/4\n",
    "l"
   ]
  },
  {
   "cell_type": "code",
   "execution_count": null,
   "metadata": {
    "colab": {
     "base_uri": "https://localhost:8080/",
     "height": 34
    },
    "id": "b2Qye1oeY3-2",
    "outputId": "6fe73697-4c03-4995-9811-454c3fa1e27f"
   },
   "outputs": [
    {
     "data": {
      "text/plain": [
       "array([0.25 , 0.525, 1.   ])"
      ]
     },
     "execution_count": 26,
     "metadata": {
      "tags": []
     },
     "output_type": "execute_result"
    }
   ],
   "source": [
    "a = np.array([1, 2.1, 4])/4\n",
    "a"
   ]
  },
  {
   "cell_type": "markdown",
   "metadata": {
    "id": "UYgrvA3AKHyA"
   },
   "source": [
    "<div class=\"alert alert-block alert-info\">\n",
    "<b>Tip:</b> A python library is like a \"reference book\". In real life you \"use a chapter or a section of a book\" to help you solve a problem. In python you \"use a function from a library\" to help you solve a problem.\n",
    "</div>"
   ]
  },
  {
   "cell_type": "markdown",
   "metadata": {
    "id": "eI_8DWkhKHyB"
   },
   "source": [
    "For most of the time we are using NumPy to construct \"lists\" (numpy.ndarray), and do array math conveniently. We also use some function solves provided by NumPy (see later)"
   ]
  },
  {
   "cell_type": "markdown",
   "metadata": {
    "id": "RDYKMGmDKHyB"
   },
   "source": [
    "<b> Constructing lists </b>:\n",
    "```python\n",
    "numpy.linspace(start, stop, num=50, endpoint=True, retstep=False, dtype=None)\n",
    "```\n",
    "or\n",
    "```python\n",
    "numpy.arange([start, ]stop, [step, ]dtype=None)\n",
    "```\n",
    "Examples:"
   ]
  },
  {
   "cell_type": "code",
   "execution_count": null,
   "metadata": {
    "colab": {
     "base_uri": "https://localhost:8080/",
     "height": 34
    },
    "id": "FsXJahDUKHyC",
    "outputId": "122a31e8-8f45-4afb-c1f1-4947d1919f30"
   },
   "outputs": [
    {
     "data": {
      "text/plain": [
       "array([2. , 2.2, 2.4, 2.6, 2.8, 3. ])"
      ]
     },
     "execution_count": 27,
     "metadata": {
      "tags": []
     },
     "output_type": "execute_result"
    }
   ],
   "source": [
    "np.linspace(2.0, 3.0, num=6)"
   ]
  },
  {
   "cell_type": "code",
   "execution_count": null,
   "metadata": {
    "id": "2IarDZDOKHyH",
    "outputId": "70c6d50f-84b0-43b5-cce8-749fbf316326"
   },
   "outputs": [
    {
     "data": {
      "text/plain": [
       "array([2. , 2.2, 2.4, 2.6, 2.8])"
      ]
     },
     "execution_count": 15,
     "metadata": {
      "tags": []
     },
     "output_type": "execute_result"
    }
   ],
   "source": [
    "np.linspace(2.0, 3.0, num=5, endpoint=False)"
   ]
  },
  {
   "cell_type": "code",
   "execution_count": null,
   "metadata": {
    "id": "uUMWCD2YKHyM",
    "outputId": "5fc0d3a0-058b-4f58-b257-eb498a3920be"
   },
   "outputs": [
    {
     "data": {
      "text/plain": [
       "array([0, 1, 2])"
      ]
     },
     "execution_count": 16,
     "metadata": {
      "tags": []
     },
     "output_type": "execute_result"
    }
   ],
   "source": [
    "np.arange(3)"
   ]
  },
  {
   "cell_type": "code",
   "execution_count": null,
   "metadata": {
    "id": "OX6zaFXrKHyO",
    "outputId": "6230d495-f8cb-49e7-f263-360cf126da92"
   },
   "outputs": [
    {
     "data": {
      "text/plain": [
       "array([0., 1., 2.])"
      ]
     },
     "execution_count": 17,
     "metadata": {
      "tags": []
     },
     "output_type": "execute_result"
    }
   ],
   "source": [
    "np.arange(3.0)"
   ]
  },
  {
   "cell_type": "code",
   "execution_count": null,
   "metadata": {
    "id": "IqsUM9huKHyR",
    "outputId": "dfe2c1d9-b7ba-4551-8623-f019e9d8f43f"
   },
   "outputs": [
    {
     "data": {
      "text/plain": [
       "array([3, 4, 5, 6])"
      ]
     },
     "execution_count": 18,
     "metadata": {
      "tags": []
     },
     "output_type": "execute_result"
    }
   ],
   "source": [
    "np.arange(3,7)"
   ]
  },
  {
   "cell_type": "code",
   "execution_count": null,
   "metadata": {
    "id": "lUs4iFsvKHyU",
    "outputId": "80547e12-e25c-4e70-f1cd-95b9316988af"
   },
   "outputs": [
    {
     "data": {
      "text/plain": [
       "numpy.ndarray"
      ]
     },
     "execution_count": 19,
     "metadata": {
      "tags": []
     },
     "output_type": "execute_result"
    }
   ],
   "source": [
    "type(np.linspace(2.0, 3.0, num=5))"
   ]
  },
  {
   "cell_type": "code",
   "execution_count": null,
   "metadata": {
    "id": "I8lnse5QKHyY",
    "outputId": "ef5e8c66-c3a5-406f-bf95-dfa5bce7d58f"
   },
   "outputs": [
    {
     "data": {
      "text/plain": [
       "numpy.ndarray"
      ]
     },
     "execution_count": 20,
     "metadata": {
      "tags": []
     },
     "output_type": "execute_result"
    }
   ],
   "source": [
    "type(np.arange(3))"
   ]
  },
  {
   "cell_type": "code",
   "execution_count": null,
   "metadata": {
    "id": "zm09X5JGKHya",
    "outputId": "eb352690-2ccc-441d-e166-d1ddee6ed92b"
   },
   "outputs": [
    {
     "data": {
      "text/plain": [
       "[3, 4, 5, 6]"
      ]
     },
     "execution_count": 21,
     "metadata": {
      "tags": []
     },
     "output_type": "execute_result"
    }
   ],
   "source": [
    "list(np.arange(3,7))"
   ]
  },
  {
   "cell_type": "markdown",
   "metadata": {
    "id": "1ziqQxF3KHyc"
   },
   "source": [
    "Above actions creates an numpy.ndarry, which can be easily converted to list by list( ) function. BTW, you can actually create a list without NumPy, using the `range(m,n)` function.\n",
    "\n",
    "Range is a built-in python data type. It's type is \"range\""
   ]
  },
  {
   "cell_type": "code",
   "execution_count": null,
   "metadata": {
    "id": "PXDBGY5MKHyc",
    "outputId": "8050c9d3-4762-4c03-faa1-0740185e7d3c"
   },
   "outputs": [
    {
     "data": {
      "text/plain": [
       "range"
      ]
     },
     "execution_count": 22,
     "metadata": {
      "tags": []
     },
     "output_type": "execute_result"
    }
   ],
   "source": [
    "type(range(1))"
   ]
  },
  {
   "cell_type": "markdown",
   "metadata": {
    "id": "nzpGkOLDKHyf"
   },
   "source": [
    "It is useful for looping. Same for NumPy arrays."
   ]
  },
  {
   "cell_type": "code",
   "execution_count": null,
   "metadata": {
    "id": "zKVMdbaNKHyg",
    "outputId": "274d075e-44f0-4903-854e-a2ccaacc4058"
   },
   "outputs": [
    {
     "name": "stdout",
     "output_type": "stream",
     "text": [
      "0\n",
      "1\n",
      "4\n",
      "9\n",
      "16\n",
      "25\n",
      "36\n",
      "49\n",
      "64\n",
      "81\n"
     ]
    }
   ],
   "source": [
    "for i in range(0,10):\n",
    "    print(i**2)"
   ]
  },
  {
   "cell_type": "markdown",
   "metadata": {
    "id": "vAMe6i4EKHyk"
   },
   "source": [
    "OK, you already found that `range(10)` is a sequence from 0 to 9. Generally, `range(m,n)` is from $m$ to $n-1$. Do to the same thing as `np.linspace(2.0, 3.0, num=5)`, we can do"
   ]
  },
  {
   "cell_type": "code",
   "execution_count": null,
   "metadata": {
    "id": "3tUUkMTiKHym",
    "outputId": "66c9697b-344a-4ef1-d214-3f8dff9faac9"
   },
   "outputs": [
    {
     "data": {
      "text/plain": [
       "[2.0, 2.25, 2.5, 2.75, 3.0]"
      ]
     },
     "execution_count": 24,
     "metadata": {
      "tags": []
     },
     "output_type": "execute_result"
    }
   ],
   "source": [
    "[2+x/4 for x in range(5)]"
   ]
  },
  {
   "cell_type": "markdown",
   "metadata": {
    "id": "guLQo3SnKHyo"
   },
   "source": [
    "It is a list with the same elements."
   ]
  },
  {
   "cell_type": "markdown",
   "metadata": {
    "id": "RPRpF5FqKHyq"
   },
   "source": [
    "<b> Array math </b>: Here are some math operations for arrays that can be done conviently. Also very easily readable. Please read through and have an idea of <b> what can NumPy do </b>. Memorizing syntax is not quite necessary since the references of usage are easily found online."
   ]
  },
  {
   "cell_type": "markdown",
   "metadata": {
    "id": "UZj_rROBKHyq"
   },
   "source": [
    "```python\n",
    "import numpy as np\n",
    "\n",
    "x = np.array([[1,2],[3,4]], dtype=np.float64)\n",
    "y = np.array([[5,6],[7,8]], dtype=np.float64)\n",
    "\n",
    "# Elementwise sum; both produce the array\n",
    "# [[ 6.0  8.0]\n",
    "#  [10.0 12.0]]\n",
    "print(x + y)\n",
    "print(np.add(x, y))\n",
    "\n",
    "# Elementwise difference; both produce the array\n",
    "# [[-4.0 -4.0]\n",
    "#  [-4.0 -4.0]]\n",
    "print(x - y)\n",
    "print(np.subtract(x, y))\n",
    "\n",
    "# Elementwise product; both produce the array\n",
    "# [[ 5.0 12.0]\n",
    "#  [21.0 32.0]]\n",
    "print(x * y)\n",
    "print(np.multiply(x, y))\n",
    "\n",
    "# Elementwise division; both produce the array\n",
    "# [[ 0.2         0.33333333]\n",
    "#  [ 0.42857143  0.5       ]]\n",
    "print(x / y)\n",
    "print(np.divide(x, y))\n",
    "\n",
    "# Elementwise square root; produces the array\n",
    "# [[ 1.          1.41421356]\n",
    "#  [ 1.73205081  2.        ]]\n",
    "print(np.sqrt(x))\n",
    "```"
   ]
  },
  {
   "cell_type": "markdown",
   "metadata": {
    "id": "taSMy8NFKHyr"
   },
   "source": [
    "Note that unlike MATLAB (but just like Mathematica!), `*` is elementwise multiplication, not matrix multiplication. We instead use the `dot` function to compute inner products of vectors, to multiply a vector by a matrix, and to multiply matrices."
   ]
  },
  {
   "cell_type": "markdown",
   "metadata": {
    "id": "_CJxNF2iKHyr"
   },
   "source": [
    "```python\n",
    "x = np.array([[1,2],[3,4]])\n",
    "y = np.array([[5,6],[7,8]])\n",
    "\n",
    "v = np.array([9,10])\n",
    "w = np.array([11, 12])\n",
    "\n",
    "# Inner product of vectors; both produce 219\n",
    "print(v.dot(w))\n",
    "print(np.dot(v, w))\n",
    "\n",
    "# Matrix / vector product; both produce the rank 1 array [29 67]\n",
    "print(x.dot(v))\n",
    "print(np.dot(x, v))\n",
    "\n",
    "# Matrix / matrix product; both produce the rank 2 array\n",
    "# [[19 22]\n",
    "#  [43 50]]\n",
    "print(x.dot(y))\n",
    "print(np.dot(x, y))\n",
    "```"
   ]
  },
  {
   "cell_type": "markdown",
   "metadata": {
    "id": "JXmcFsiDKHyr"
   },
   "source": [
    "By the way, in Mathematica you have:\n",
    "```Wolfram\n",
    "In[1]:= {1, 2, 3} {4, 5, 6}\n",
    "Out[1]:= {4,10,18}\n",
    "\n",
    "In[2]:= Dot[{1, 2, 3},{4, 5, 6}]\n",
    "Out[2]:= 32\n",
    "```"
   ]
  },
  {
   "cell_type": "markdown",
   "metadata": {
    "id": "kd0oYf3_KHyt"
   },
   "source": [
    "Other functions such as sum of an array and transpose"
   ]
  },
  {
   "cell_type": "markdown",
   "metadata": {
    "id": "Yx6aZH5TKHyt"
   },
   "source": [
    "```python\n",
    "import numpy as np\n",
    "\n",
    "x = np.array([[1,2],[3,4]])\n",
    "\n",
    "print(np.sum(x))  # Compute sum of all elements; prints \"10\"\n",
    "print(np.sum(x, axis=0))  # Compute sum of each column; prints \"[4 6]\"\n",
    "print(np.sum(x, axis=1))  # Compute sum of each row; prints \"[3 7]\"\n",
    "```"
   ]
  },
  {
   "cell_type": "markdown",
   "metadata": {
    "id": "ziQ_bSWnKHyv"
   },
   "source": [
    "```python\n",
    "import numpy as np\n",
    "\n",
    "x = np.array([[1,2], [3,4]])\n",
    "print(x)    # Prints \"[[1 2]\n",
    "            #          [3 4]]\"\n",
    "print(x.T)  # Prints \"[[1 3]\n",
    "            #          [2 4]]\"\n",
    "\n",
    "# Note that taking the transpose of a rank 1 array does nothing:\n",
    "v = np.array([1,2,3])\n",
    "print(v)    # Prints \"[1 2 3]\"\n",
    "print(v.T)  # Prints \"[1 2 3]\"\n",
    "```"
   ]
  },
  {
   "cell_type": "markdown",
   "metadata": {
    "id": "G6bPIldwKHyv"
   },
   "source": [
    "<div class=\"alert alert-block alert-info\">\n",
    "<b>Tip:</b> Dot and transposes are methods of arrays\n",
    "</div>"
   ]
  },
  {
   "cell_type": "markdown",
   "metadata": {
    "id": "P8TeZ93HKHyv"
   },
   "source": [
    "There are many more functions provided by NumPy. Check them out on official documentation of NumPy. Things beyond list manipulation will almost surely not be required in coding for this course."
   ]
  },
  {
   "cell_type": "markdown",
   "metadata": {
    "id": "ApCfd1LCKHyv"
   },
   "source": [
    "### SciPy"
   ]
  },
  {
   "cell_type": "markdown",
   "metadata": {
    "id": "68pDLmXSKHyx"
   },
   "source": [
    "Numpy provides a high-performance multidimensional array and basic tools to compute with and manipulate these arrays. SciPy builds on this, and provides a large number of functions that operate on numpy arrays and are useful for different types of scientific and engineering applications.\n",
    "\n",
    "\n",
    "In this course, the major use of scipy is the various solvers which are easily identified in the official documentation. The detailed usage will be introduced when we move to related topics."
   ]
  },
  {
   "cell_type": "markdown",
   "metadata": {
    "id": "YX_3AkhcKHyy"
   },
   "source": [
    "### Overall introduction"
   ]
  },
  {
   "cell_type": "markdown",
   "metadata": {
    "id": "3cmTkjcWKHyy"
   },
   "source": [
    "Sympy is a python library just like others. It is also a computer algebra system (CAS) similar to Mathematica. Usually, when we decide to go to symbolic, we import everything in sympy such that we can <b> directly call the functions in sympy by the function name </b>."
   ]
  },
  {
   "cell_type": "code",
   "execution_count": null,
   "metadata": {
    "id": "uD0IXlVFKHyz"
   },
   "outputs": [],
   "source": [
    "from sympy import *\n",
    "init_printing() #init_printing(use_latex=True)"
   ]
  },
  {
   "cell_type": "code",
   "execution_count": null,
   "metadata": {
    "colab": {
     "base_uri": "https://localhost:8080/",
     "height": 188
    },
    "id": "oitN44DmhjZb",
    "outputId": "e02cf22d-68d8-4758-ffdb-82872e6ee0d4"
   },
   "outputs": [
    {
     "name": "stdout",
     "output_type": "stream",
     "text": [
      "Name: sympy\n",
      "Version: 1.1.1\n",
      "Summary: Computer algebra system (CAS) in Python\n",
      "Home-page: http://sympy.org\n",
      "Author: SymPy development team\n",
      "Author-email: sympy@googlegroups.com\n",
      "License: BSD\n",
      "Location: /usr/local/lib/python3.6/dist-packages\n",
      "Requires: mpmath\n",
      "Required-by: \n"
     ]
    }
   ],
   "source": [
    "pip show sympy"
   ]
  },
  {
   "cell_type": "markdown",
   "metadata": {
    "id": "yU3aZOgNKHy3"
   },
   "source": [
    "The code `init_printing()` will alter the output style to Latex style."
   ]
  },
  {
   "cell_type": "markdown",
   "metadata": {
    "id": "HN4F1mexKHy4"
   },
   "source": [
    "<b> Q: </b> Why not just using Mathematica?\n",
    "\n",
    "<b> A: </b>\n",
    "\n",
    "- It's better to have Latex style output and to be able to link the output to Latex\n",
    "- Mathematica is just a computer algebra system (CAS). Sympy provides a highly comparable CAS withing the powerful python."
   ]
  },
  {
   "cell_type": "markdown",
   "metadata": {
    "id": "jFfWuxsoKHy4"
   },
   "source": [
    "### Syntax and features"
   ]
  },
  {
   "cell_type": "markdown",
   "metadata": {
    "id": "jkGhA5zyKHy5"
   },
   "source": [
    "#### A new \"symbol\" class"
   ]
  },
  {
   "cell_type": "markdown",
   "metadata": {
    "id": "XYvXvXZkKHy5"
   },
   "source": [
    "Python itself does not support symbolic variables. So sympy actually creates new class (a new data structure) called \"symbols\". We'll see this type below."
   ]
  },
  {
   "cell_type": "code",
   "execution_count": null,
   "metadata": {
    "colab": {
     "base_uri": "https://localhost:8080/",
     "height": 34
    },
    "id": "JOtvHvWXKHy5",
    "outputId": "65c482af-e856-4b85-f007-c82ba164250d"
   },
   "outputs": [
    {
     "data": {
      "text/plain": [
       "sympy.core.symbol.Symbol"
      ]
     },
     "execution_count": 17,
     "metadata": {
      "tags": []
     },
     "output_type": "execute_result"
    }
   ],
   "source": [
    "a = symbols('a')\n",
    "type(a)"
   ]
  },
  {
   "cell_type": "markdown",
   "metadata": {
    "id": "QqAaE7zFKHy8"
   },
   "source": [
    "<div class=\"alert alert-block alert-warning\">\n",
    "<b>Warning:</b> Remember to declare the symbols before using them (or, remember to switch from \"python variable `a`\" to \"symbol `a`\"\n",
    "</div>"
   ]
  },
  {
   "cell_type": "markdown",
   "metadata": {
    "id": "hX5huPuqKHy8"
   },
   "source": [
    "As we can see, now a is a Sympy symbol rather than an `int` or a `float` or a string."
   ]
  },
  {
   "cell_type": "markdown",
   "metadata": {
    "id": "ROyl2HU1KHzA"
   },
   "source": [
    "#### Overwriting printing style"
   ]
  },
  {
   "cell_type": "markdown",
   "metadata": {
    "id": "EChr1y1RKHzC"
   },
   "source": [
    "Since we already initialized printing, we now turn it off."
   ]
  },
  {
   "cell_type": "code",
   "execution_count": null,
   "metadata": {
    "id": "cMvL1vvUKHzD",
    "outputId": "5afc323f-0c09-4103-f8b0-5b0085f36f6e"
   },
   "outputs": [
    {
     "data": {
      "text/plain": [
       "a"
      ]
     },
     "execution_count": 27,
     "metadata": {
      "tags": []
     },
     "output_type": "execute_result"
    }
   ],
   "source": [
    "init_printing(use_latex=False)\n",
    "a"
   ]
  },
  {
   "cell_type": "code",
   "execution_count": null,
   "metadata": {
    "id": "o8msJquXKHzF",
    "outputId": "44af463a-95d4-4e8b-e4b9-bcb4302cd74d"
   },
   "outputs": [
    {
     "data": {
      "image/png": "[encoded data removed]",
      "text/latex": [
       "$$a$$"
      ],
      "text/plain": [
       "a"
      ]
     },
     "execution_count": 28,
     "metadata": {
      "tags": []
     },
     "output_type": "execute_result"
    }
   ],
   "source": [
    "init_printing(use_latex=True) # The default value of use_latex is True\n",
    "a"
   ]
  },
  {
   "cell_type": "markdown",
   "metadata": {
    "id": "JDHD5JweKHzH"
   },
   "source": [
    "#### Complete latex-style output"
   ]
  },
  {
   "cell_type": "code",
   "execution_count": null,
   "metadata": {
    "colab": {
     "base_uri": "https://localhost:8080/",
     "height": 40
    },
    "id": "gJ5smqleKHzH",
    "outputId": "7f810e4d-9567-4808-848e-3b0d1b801351",
    "scrolled": true
   },
   "outputs": [
    {
     "data": {
      "image/png": "[encoded data removed]",
      "text/latex": [
       "$$\\int_{a}^{b} f{\\left (x \\right )}\\, dx$$"
      ],
      "text/plain": [
       "b        \n",
       "⌠        \n",
       "⎮ f(x) dx\n",
       "⌡        \n",
       "a        "
      ]
     },
     "execution_count": 20,
     "metadata": {
      "tags": []
     },
     "output_type": "execute_result"
    }
   ],
   "source": [
    "a, b, x, f = symbols('a b x f')\n",
    "c = Integral(f(x),(x,a,b))\n",
    "Integral(f(a),(a,a,b))\n",
    "c"
   ]
  },
  {
   "cell_type": "markdown",
   "metadata": {
    "id": "AEtuIG0vKHzK"
   },
   "source": [
    "such style preserves throughout computation, including results solved from Equations. For example, solving the following differential equation"
   ]
  },
  {
   "cell_type": "markdown",
   "metadata": {
    "id": "sziTk4ELKHzK"
   },
   "source": [
    "#### Analytical solution"
   ]
  },
  {
   "cell_type": "markdown",
   "metadata": {
    "id": "zj_jXaKHKHzK"
   },
   "source": [
    "First let's display a differential equation"
   ]
  },
  {
   "cell_type": "code",
   "execution_count": null,
   "metadata": {
    "colab": {
     "base_uri": "https://localhost:8080/",
     "height": 40
    },
    "id": "3VXe2kufKHzK",
    "outputId": "88b6b319-b607-40da-ae96-41c7dddab068"
   },
   "outputs": [
    {
     "data": {
      "image/png": "[encoded data removed]",
      "text/latex": [
       "$$- y{\\left (t \\right )} + \\frac{d^{2}}{d t^{2}}  y{\\left (t \\right )} = e^{t}$$"
      ],
      "text/plain": [
       "          2           \n",
       "         d           t\n",
       "-y(t) + ───(y(t)) = ℯ \n",
       "          2           \n",
       "        dt            "
      ]
     },
     "execution_count": 11,
     "metadata": {
      "tags": []
     },
     "output_type": "execute_result"
    }
   ],
   "source": [
    "y, t = symbols('y t')\n",
    "Eq(y(t).diff(t, t) - y(t), exp(t))"
   ]
  },
  {
   "cell_type": "markdown",
   "metadata": {
    "id": "uDOMpPFqKHzO"
   },
   "source": [
    "Then solve it <i> analytically </i>"
   ]
  },
  {
   "cell_type": "code",
   "execution_count": null,
   "metadata": {
    "colab": {
     "base_uri": "https://localhost:8080/",
     "height": 38
    },
    "id": "U4Vkt1rqKHzP",
    "outputId": "09e4cb90-7880-46da-a0f5-87ffd8a6d194"
   },
   "outputs": [
    {
     "data": {
      "image/png": "[encoded data removed]",
      "text/latex": [
       "$$y{\\left (t \\right )} = C_{2} e^{- t} + \\left(C_{1} + \\frac{t}{2}\\right) e^{t}$$"
      ],
      "text/plain": [
       "           -t   ⎛     t⎞  t\n",
       "y(t) = C₂⋅ℯ   + ⎜C₁ + ─⎟⋅ℯ \n",
       "                ⎝     2⎠   "
      ]
     },
     "execution_count": 13,
     "metadata": {
      "tags": []
     },
     "output_type": "execute_result"
    }
   ],
   "source": [
    "dsolve(Eq(y(t).diff(t, t) - y(t), exp(t)), y(t))"
   ]
  },
  {
   "cell_type": "markdown",
   "metadata": {
    "id": "AuBCQxR_KHzS"
   },
   "source": [
    "The solver `dsolve` is from sympy.solvers.ode. Somehow the name is identical to its counterpart in Mathematica."
   ]
  },
  {
   "cell_type": "markdown",
   "metadata": {
    "id": "z3YzUFbCKHzS"
   },
   "source": [
    "#### Turn output into Latex"
   ]
  },
  {
   "cell_type": "code",
   "execution_count": null,
   "metadata": {
    "colab": {
     "base_uri": "https://localhost:8080/",
     "height": 34
    },
    "id": "58a8guXzKHzS",
    "outputId": "0fcc1051-dc5b-4901-c095-7d718cb4a9e4"
   },
   "outputs": [
    {
     "data": {
      "application/vnd.google.colaboratory.intrinsic+json": {
       "type": "string"
      },
      "text/plain": [
       "'\\\\int_{a}^{b} f{\\\\left (x \\\\right )}\\\\, dx'"
      ]
     },
     "execution_count": 14,
     "metadata": {
      "tags": []
     },
     "output_type": "execute_result"
    }
   ],
   "source": [
    "f, a, b, x= symbols('f a b x')\n",
    "latex(Integral(f(x),(x,a,b)))"
   ]
  },
  {
   "cell_type": "markdown",
   "metadata": {
    "id": "g8HfPLW3KHzU"
   },
   "source": [
    "The output string will be a format compatible to Latex"
   ]
  },
  {
   "cell_type": "markdown",
   "metadata": {
    "id": "FErufRhVKHzU"
   },
   "source": [
    "#### Simplification of equations"
   ]
  },
  {
   "cell_type": "markdown",
   "metadata": {
    "id": "J73l7UzTKHzV"
   },
   "source": [
    "One of the most useful features of a symbolic manipulation system is the ability to simplify mathematical expressions. SymPy has dozens of functions to perform various kinds of simplification (check official documents!). There is also one general function called `simplify()` that attempts to apply all of these functions in an intelligent way to arrive at the simplest form of an expression. Here are some examples:"
   ]
  },
  {
   "cell_type": "code",
   "execution_count": null,
   "metadata": {
    "id": "WUXk8tqAKHzV"
   },
   "outputs": [],
   "source": [
    "x=symbols('x')"
   ]
  },
  {
   "cell_type": "code",
   "execution_count": null,
   "metadata": {
    "id": "s2ZGCNLQKHzZ",
    "outputId": "56fc70ee-cc35-4219-87a6-7adb0eb06355"
   },
   "outputs": [
    {
     "data": {
      "image/png": "[encoded data removed]",
      "text/latex": [
       "$$1$$"
      ],
      "text/plain": [
       "1"
      ]
     },
     "execution_count": 34,
     "metadata": {
      "tags": []
     },
     "output_type": "execute_result"
    }
   ],
   "source": [
    "simplify(sin(x)**2+cos(x)**2)"
   ]
  },
  {
   "cell_type": "code",
   "execution_count": null,
   "metadata": {
    "id": "JAzHcxfiKHzb",
    "outputId": "db92f650-b3af-457a-ad21-ad82fb83de6d"
   },
   "outputs": [
    {
     "data": {
      "image/png": "[encoded data removed]",
      "text/latex": [
       "$$x - 1$$"
      ],
      "text/plain": [
       "x - 1"
      ]
     },
     "execution_count": 35,
     "metadata": {
      "tags": []
     },
     "output_type": "execute_result"
    }
   ],
   "source": [
    "simplify((x**3 + x**2 - x - 1)/(x**2 + 2*x + 1))"
   ]
  },
  {
   "cell_type": "markdown",
   "metadata": {
    "id": "MY45hx0YKHzc"
   },
   "source": [
    "It can also do special functions"
   ]
  },
  {
   "cell_type": "code",
   "execution_count": null,
   "metadata": {
    "id": "KIn4ldUqKHzd",
    "outputId": "4bae7c05-c042-4186-b3f0-3523eb159546"
   },
   "outputs": [
    {
     "data": {
      "image/png": "[encoded data removed]",
      "text/latex": [
       "$$\\left(x - 2\\right) \\left(x - 1\\right)$$"
      ],
      "text/plain": [
       "(x - 2)⋅(x - 1)"
      ]
     },
     "execution_count": 36,
     "metadata": {
      "tags": []
     },
     "output_type": "execute_result"
    }
   ],
   "source": [
    "simplify(gamma(x)/gamma(x - 2))"
   ]
  },
  {
   "cell_type": "markdown",
   "metadata": {
    "id": "va9U6nKxKHzg"
   },
   "source": [
    "#### Expansion of simplified forms"
   ]
  },
  {
   "cell_type": "code",
   "execution_count": null,
   "metadata": {
    "id": "igWgomUzKHzh",
    "outputId": "8c9d9fc6-ab93-4589-ae89-38014d23b4e6"
   },
   "outputs": [
    {
     "data": {
      "image/png": "[encoded data removed]",
      "text/latex": [
       "$$x^{2} + 2 x + 1$$"
      ],
      "text/plain": [
       " 2          \n",
       "x  + 2⋅x + 1"
      ]
     },
     "execution_count": 37,
     "metadata": {
      "tags": []
     },
     "output_type": "execute_result"
    }
   ],
   "source": [
    "expand((x + 1)**2)"
   ]
  },
  {
   "cell_type": "markdown",
   "metadata": {
    "id": "FDA75gIZKHzj"
   },
   "source": [
    "`expand()` will also do apparent cancellation"
   ]
  },
  {
   "cell_type": "code",
   "execution_count": null,
   "metadata": {
    "id": "RGUqVv3eKHzj",
    "outputId": "c34db2ee-56cf-4bec-e433-83bf276b7d31"
   },
   "outputs": [
    {
     "data": {
      "image/png": "[encoded data removed]",
      "text/latex": [
       "$$-2$$"
      ],
      "text/plain": [
       "-2"
      ]
     },
     "execution_count": 38,
     "metadata": {
      "tags": []
     },
     "output_type": "execute_result"
    }
   ],
   "source": [
    "expand((x + 1)*(x - 2) - (x - 1)*x)"
   ]
  },
  {
   "cell_type": "markdown",
   "metadata": {
    "id": "EX-CCOV-KHzm"
   },
   "source": [
    "#### Numerically evaluate expressions:"
   ]
  },
  {
   "cell_type": "markdown",
   "metadata": {
    "id": "grHDpHieKHzn"
   },
   "source": [
    "For most of the time you can simply call `subs()` or `evalf()` method to do numerical evaluation."
   ]
  },
  {
   "cell_type": "markdown",
   "metadata": {
    "id": "thjFWJagKHzn"
   },
   "source": [
    "`subs()` can substitute a variable by another variable or values"
   ]
  },
  {
   "cell_type": "code",
   "execution_count": null,
   "metadata": {
    "colab": {
     "base_uri": "https://localhost:8080/",
     "height": 38
    },
    "id": "kpxpPkTIKHzn",
    "outputId": "f3e89f38-14cd-4a62-93d9-b25c003e32da"
   },
   "outputs": [
    {
     "data": {
      "image/png": "[encoded data removed]",
      "text/latex": [
       "$$\\cos{\\left (x \\right )} + 1$$"
      ],
      "text/plain": [
       "cos(x) + 1"
      ]
     },
     "execution_count": 26,
     "metadata": {
      "tags": []
     },
     "output_type": "execute_result"
    }
   ],
   "source": [
    "expr = cos(x) + 1\n",
    "expr"
   ]
  },
  {
   "cell_type": "code",
   "execution_count": null,
   "metadata": {
    "colab": {
     "base_uri": "https://localhost:8080/",
     "height": 38
    },
    "id": "IdVx-CvMKHzq",
    "outputId": "1fb0f909-3c70-4a05-acc4-f318a37d08ef"
   },
   "outputs": [
    {
     "data": {
      "image/png": "[encoded data removed]",
      "text/latex": [
       "$$\\cos{\\left (y \\right )} + 1$$"
      ],
      "text/plain": [
       "cos(y) + 1"
      ]
     },
     "execution_count": 27,
     "metadata": {
      "tags": []
     },
     "output_type": "execute_result"
    }
   ],
   "source": [
    "y = symbols('y')\n",
    "expr.subs(x, y)"
   ]
  },
  {
   "cell_type": "markdown",
   "metadata": {
    "id": "dvREJJHtKHzs"
   },
   "source": [
    "Note that subs does not alter the original `expr` because expressions are immutable. use `expr = expr.subs(x, y)` if you want to update `expr`"
   ]
  },
  {
   "cell_type": "code",
   "execution_count": null,
   "metadata": {
    "colab": {
     "base_uri": "https://localhost:8080/",
     "height": 37
    },
    "id": "k2paEDYaKHzs",
    "outputId": "5495a7bf-25ab-46fc-d4aa-3ae41974a82a"
   },
   "outputs": [
    {
     "data": {
      "image/png": "[encoded data removed]",
      "text/latex": [
       "$$\\cos{\\left (1 \\right )} + 1$$"
      ],
      "text/plain": [
       "cos(1) + 1"
      ]
     },
     "execution_count": 28,
     "metadata": {
      "tags": []
     },
     "output_type": "execute_result"
    }
   ],
   "source": [
    "expr.subs(x,1)"
   ]
  },
  {
   "cell_type": "markdown",
   "metadata": {
    "id": "ugM3vL4nKHzt"
   },
   "source": [
    "`evalf()` is used to turn a numerical expression into a floating point number (like the function `N[]` in Mathematica)"
   ]
  },
  {
   "cell_type": "markdown",
   "metadata": {
    "id": "i-DlRu_WKHzu"
   },
   "source": [
    "```Wolfram\n",
    "In[1]: N[Sqrt[2]]\n",
    "Out[2]: 1.41421\n",
    "```"
   ]
  },
  {
   "cell_type": "code",
   "execution_count": null,
   "metadata": {
    "colab": {
     "base_uri": "https://localhost:8080/",
     "height": 37
    },
    "id": "di7FJ92hKHzu",
    "outputId": "a1ef6f9d-90f8-4cbe-da79-bf239d384b66"
   },
   "outputs": [
    {
     "data": {
      "image/png": "[encoded data removed]",
      "text/latex": [
       "$$2 \\sqrt{2}$$"
      ],
      "text/plain": [
       "2⋅√2"
      ]
     },
     "execution_count": 30,
     "metadata": {
      "tags": []
     },
     "output_type": "execute_result"
    }
   ],
   "source": [
    "expr = sqrt(8)\n",
    "expr"
   ]
  },
  {
   "cell_type": "code",
   "execution_count": null,
   "metadata": {
    "colab": {
     "base_uri": "https://localhost:8080/",
     "height": 37
    },
    "id": "L6LBylvmKHzv",
    "outputId": "001cd1ac-c71b-4481-c34d-8d5c9fbd275d"
   },
   "outputs": [
    {
     "data": {
      "image/png": "[encoded data removed]",
      "text/latex": [
       "$$2.82842712474619$$"
      ],
      "text/plain": [
       "2.82842712474619"
      ]
     },
     "execution_count": 31,
     "metadata": {
      "tags": []
     },
     "output_type": "execute_result"
    }
   ],
   "source": [
    "expr.evalf()"
   ]
  },
  {
   "cell_type": "markdown",
   "metadata": {
    "id": "QGYTBr_RKHzy"
   },
   "source": [
    "For the <b> many other </b> simplification functions, please check out the official documentation and tutorial. https://docs.sympy.org/latest/tutorial/"
   ]
  },
  {
   "cell_type": "markdown",
   "metadata": {
    "id": "vcfpj_TgKHzz"
   },
   "source": [
    "#### Calculus"
   ]
  },
  {
   "cell_type": "code",
   "execution_count": null,
   "metadata": {
    "colab": {
     "base_uri": "https://localhost:8080/",
     "height": 38
    },
    "id": "CtoLvKVGKHzz",
    "outputId": "fd1cdada-68dd-4794-c48d-d6496ee5e9ba"
   },
   "outputs": [
    {
     "data": {
      "image/png": "[encoded data removed]",
      "text/latex": [
       "$$- \\sin{\\left (x \\right )}$$"
      ],
      "text/plain": [
       "-sin(x)"
      ]
     },
     "execution_count": 32,
     "metadata": {
      "tags": []
     },
     "output_type": "execute_result"
    }
   ],
   "source": [
    "diff(cos(x), x)"
   ]
  },
  {
   "cell_type": "markdown",
   "metadata": {
    "id": "b1NCKz4wKHz1"
   },
   "source": [
    "$n$th order derivative:"
   ]
  },
  {
   "cell_type": "code",
   "execution_count": null,
   "metadata": {
    "colab": {
     "base_uri": "https://localhost:8080/",
     "height": 38
    },
    "id": "arihw6XTKHz1",
    "outputId": "2d4ef45f-63a5-4e08-c0e3-6697f40e22ab"
   },
   "outputs": [
    {
     "data": {
      "image/png": "[encoded data removed]",
      "text/latex": [
       "$$24 x$$"
      ],
      "text/plain": [
       "24⋅x"
      ]
     },
     "execution_count": 33,
     "metadata": {
      "tags": []
     },
     "output_type": "execute_result"
    }
   ],
   "source": [
    "diff(x**4, x, 3)"
   ]
  },
  {
   "cell_type": "markdown",
   "metadata": {
    "id": "HM0jB-IAKHz3"
   },
   "source": [
    "Indefinite and definite integrals:"
   ]
  },
  {
   "cell_type": "code",
   "execution_count": null,
   "metadata": {
    "colab": {
     "base_uri": "https://localhost:8080/",
     "height": 38
    },
    "id": "XcvM9tNnKHz3",
    "outputId": "c08b4891-37da-4523-e155-1f95ceb6c0c4"
   },
   "outputs": [
    {
     "data": {
      "image/png": "[encoded data removed]",
      "text/latex": [
       "$$\\sin{\\left (x \\right )}$$"
      ],
      "text/plain": [
       "sin(x)"
      ]
     },
     "execution_count": 34,
     "metadata": {
      "tags": []
     },
     "output_type": "execute_result"
    }
   ],
   "source": [
    "integrate(cos(x), x)"
   ]
  },
  {
   "cell_type": "code",
   "execution_count": null,
   "metadata": {
    "colab": {
     "base_uri": "https://localhost:8080/",
     "height": 37
    },
    "id": "qb5lpB0pKHz6",
    "outputId": "832c01c4-93b0-4792-81ad-477d44381042"
   },
   "outputs": [
    {
     "data": {
      "image/png": "[encoded data removed]",
      "text/latex": [
       "$$1$$"
      ],
      "text/plain": [
       "1"
      ]
     },
     "execution_count": 35,
     "metadata": {
      "tags": []
     },
     "output_type": "execute_result"
    }
   ],
   "source": [
    "integrate(exp(-x), (x, 0, oo))"
   ]
  },
  {
   "cell_type": "markdown",
   "metadata": {
    "id": "JNIZKMl1KH0A"
   },
   "source": [
    "<u>Evaluate limits:"
   ]
  },
  {
   "cell_type": "markdown",
   "metadata": {
    "id": "a09xsJ0pKH0A"
   },
   "source": [
    "SymPy can compute symbolic limits with the limit function. The syntax to compute $$\\lim_{x\\rightarrow x_0}f(x)$$ is `limit(f(x), x, x0)`."
   ]
  },
  {
   "cell_type": "code",
   "execution_count": null,
   "metadata": {
    "colab": {
     "base_uri": "https://localhost:8080/",
     "height": 37
    },
    "id": "stkNg7yMKH0C",
    "outputId": "66603d1c-3eb2-4d19-9cae-54d252bb3008"
   },
   "outputs": [
    {
     "data": {
      "image/png": "[encoded data removed]",
      "text/latex": [
       "$$1$$"
      ],
      "text/plain": [
       "1"
      ]
     },
     "execution_count": 36,
     "metadata": {
      "tags": []
     },
     "output_type": "execute_result"
    }
   ],
   "source": [
    "limit(sin(x)/x, x, 0)"
   ]
  },
  {
   "cell_type": "code",
   "execution_count": null,
   "metadata": {
    "colab": {
     "base_uri": "https://localhost:8080/",
     "height": 37
    },
    "id": "fFGJkwBPKH0G",
    "outputId": "c86d10e1-7625-4f44-a3c4-9c18b64789e0"
   },
   "outputs": [
    {
     "data": {
      "image/png": "[encoded data removed]",
      "text/latex": [
       "$$\\mathrm{NaN}$$"
      ],
      "text/plain": [
       "nan"
      ]
     },
     "execution_count": 37,
     "metadata": {
      "tags": []
     },
     "output_type": "execute_result"
    }
   ],
   "source": [
    "expr = x**2/exp(x)\n",
    "expr.subs(x, oo) # it's two consecutive o"
   ]
  },
  {
   "cell_type": "markdown",
   "metadata": {
    "id": "iZXX4ky-KH0J"
   },
   "source": [
    "direct substitution of `x` by `infinity` is undefined"
   ]
  },
  {
   "cell_type": "code",
   "execution_count": null,
   "metadata": {
    "colab": {
     "base_uri": "https://localhost:8080/",
     "height": 37
    },
    "id": "vTPJwi_9KH0K",
    "outputId": "d6b91227-c05f-4ba3-bb05-c24d81e39119"
   },
   "outputs": [
    {
     "data": {
      "image/png": "[encoded data removed]",
      "text/latex": [
       "$$0$$"
      ],
      "text/plain": [
       "0"
      ]
     },
     "execution_count": 38,
     "metadata": {
      "tags": []
     },
     "output_type": "execute_result"
    }
   ],
   "source": [
    "limit(expr, x, oo)"
   ]
  }
 ],
 "metadata": {
  "colab": {
   "provenance": [],
   "toc_visible": true
  },
  "kernelspec": {
   "display_name": "Python 3 (ipykernel)",
   "language": "python",
   "name": "python3"
  },
  "language_info": {
   "codemirror_mode": {
    "name": "ipython",
    "version": 3
   },
   "file_extension": ".py",
   "mimetype": "text/x-python",
   "name": "python",
   "nbconvert_exporter": "python",
   "pygments_lexer": "ipython3",
   "version": "3.9.18"
  }
 },
 "nbformat": 4,
 "nbformat_minor": 4
}
