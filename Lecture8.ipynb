{
 "cells": [
  {
   "cell_type": "markdown",
   "metadata": {
    "id": "mn_rZMsdyvZ1"
   },
   "source": [
    "## Lecture 8\n",
    "We will first go through how to generate plots using Matplotlib, a plotting package for Python.\n",
    "\n",
    "We will for the most of time use it to generate 2D plots. In the rare case of multiple parameters and if you are interested, 3D plots may also be helpful.\n",
    "\n",
    "Key points for using matplotlib:\n",
    "1. 2D line and curves\n",
    "2. Adjusting colors, thickness, dash/dot and other plotting styles\n",
    "3. Adjusting plot ranges\n",
    "4. Making multiple plots on the same graph; adding plot legend\n",
    "5. Save graphs"
   ]
  },
  {
   "cell_type": "markdown",
   "metadata": {
    "id": "scOwoi-hzDxa"
   },
   "source": [
    "### `Matplotlib`\n",
    "\n",
    "Usually we don't need to use the entire `matplotlib` package. So we do\n",
    "\n",
    "\n",
    "```python\n",
    "import matplotlib.pyplot as plt\n",
    "```"
   ]
  },
  {
   "cell_type": "code",
   "execution_count": null,
   "metadata": {
    "id": "9D93NZVdy-eB"
   },
   "outputs": [],
   "source": [
    "### Import the plotting function\n",
    "import matplotlib.pyplot as plt"
   ]
  },
  {
   "cell_type": "markdown",
   "metadata": {
    "id": "nwuQHK4RzdyI"
   },
   "source": [
    "I like to modify the plot properties to make the figure looks nicer.  See below for the default settings I normally use.  Feel free to play with the settings however you like.  You can also compare the difference in plots with or without the following configurations."
   ]
  },
  {
   "cell_type": "code",
   "execution_count": null,
   "metadata": {
    "id": "4HLWXs_kzcD5"
   },
   "outputs": [],
   "source": [
    "from matplotlib import rc\n",
    "\n",
    "plt.rcParams['xtick.labelsize']=25      # change the tick label size for x axis\n",
    "plt.rcParams['ytick.labelsize']=25      # change the tick label size for x axis\n",
    "plt.rcParams['axes.linewidth']=3        # change the line width of the axis\n",
    "plt.rcParams['xtick.major.width'] = 3   # change the tick line width of x axis\n",
    "plt.rcParams['ytick.major.width'] = 3   # change the tick line width of y axis\n",
    "rc('text', usetex=False)                # disable LaTeX rendering in plots\n",
    "rc('font',**{'family':'DejaVu Sans'})   # set the font of the plot to be DejaVu Sans"
   ]
  },
  {
   "cell_type": "markdown",
   "metadata": {
    "id": "SAGRpoKE0qW9"
   },
   "source": [
    "Now let's do a simple example.  Make a plot for $y=\\sin(x)$ for $x=[0,8]$."
   ]
  },
  {
   "cell_type": "code",
   "execution_count": null,
   "metadata": {
    "id": "Aq7iuJWfzyxT"
   },
   "outputs": [],
   "source": [
    "import numpy as np\n",
    "\n",
    "x = np.linspace(0, 8, 200)    # we first generate an array of x values for computing sin(x)\n",
    "plt.plot(x, np.sin(x))"
   ]
  },
  {
   "cell_type": "markdown",
   "metadata": {
    "id": "0jaRZLRy1TlT"
   },
   "source": [
    "Let's now make this plot looks nicer"
   ]
  },
  {
   "cell_type": "code",
   "execution_count": null,
   "metadata": {
    "id": "KpCxQbln09xR"
   },
   "outputs": [],
   "source": [
    "# We can set the figure size by first creating a figure object\n",
    "# Here I set the figure to be 9x6in with a dots per inch (dpi) to be 80\n",
    "fig = plt.figure(num = 1, figsize = (9, 6), dpi = 80, facecolor = None, edgecolor = 'k')\n",
    "\n",
    "# I made the plotting line to have width 3, and plot in black\n",
    "plt.plot(x, np.sin(x), linewidth = 3, color = 'k')\n",
    "plt.xlim([-0.1, 8.1])   #setting x-axis range\n",
    "plt.ylim([-1.1, 1.1])   #setting y-axis range"
   ]
  },
  {
   "cell_type": "markdown",
   "metadata": {
    "id": "xoUmzx5K2Uuv"
   },
   "source": [
    "Now let's also do a scatter plot"
   ]
  },
  {
   "cell_type": "code",
   "execution_count": null,
   "metadata": {
    "id": "3jX1l1WS1qK-"
   },
   "outputs": [],
   "source": [
    "fig = plt.figure(num = 1, figsize = (9, 6), dpi = 80, facecolor = None, edgecolor = 'k')\n",
    "\n",
    "x = np.linspace(0, 8, 50)    # we first generate an array of x values for computing sin(x)\n",
    "\n",
    "plt.plot(x, np.sin(x), linewidth = 3, color = 'k', label = \"line\")\n",
    "# I made a scatter plot to have marker size 200, and marker type square\n",
    "plt.scatter(x, np.sin(x), s = 200, marker = 's', label = \"sin scatter\")\n",
    "plt.xlim([-0.1, 8.1])   #setting x-axis range\n",
    "plt.ylim([-1.1, 1.1])   #setting y-axis range\n",
    "plt.legend(fontsize = 25) # you can also create legends for different lines\n",
    "plt.savefig(\"sinx.pdf\") # now you save the figure in the same folder as your jupyter notebook"
   ]
  },
  {
   "cell_type": "markdown",
   "metadata": {
    "id": "X82tLG4k3Paf"
   },
   "source": [
    "For more information on how to make figures.  See this link: https://matplotlib.org/stable/tutorials/index.html"
   ]
  },
  {
   "cell_type": "markdown",
   "metadata": {
    "id": "5iNBKkO937gI"
   },
   "source": [
    "### Bisection Method"
   ]
  },
  {
   "cell_type": "code",
   "execution_count": null,
   "metadata": {
    "id": "Z7io9b9E2ZqW"
   },
   "outputs": [],
   "source": [
    "def bisection(f, a, b, tol=1e-3):\n",
    "  fa = f(a)\n",
    "  fb = f(b)\n",
    "  root = []\n",
    "  if fa*fb > 0:\n",
    "    raise ValueError(\"There is no root in interval [a,b], try again.\")\n",
    "  else:\n",
    "    while (b-a)/2.0 > tol:\n",
    "      c = (a+b)/2.0\n",
    "      root.append(c)\n",
    "      fc = f(c)\n",
    "      if fc == 0:\n",
    "        break\n",
    "      else:\n",
    "        if fa*fc < 0:\n",
    "          b = c\n",
    "          fb = fc\n",
    "        else:\n",
    "          a = c\n",
    "          fa = fc\n",
    "    return (a+b)/2.0, root"
   ]
  },
  {
   "cell_type": "code",
   "execution_count": null,
   "metadata": {
    "id": "JyMbnC5s5GoE"
   },
   "outputs": [],
   "source": [
    "def func(x):\n",
    "  return x**2 - 4.0\n",
    "\n",
    "final_root, all_root = bisection(func, 0, 3, tol=1e-6)"
   ]
  },
  {
   "cell_type": "code",
   "execution_count": null,
   "metadata": {
    "id": "z3feXpTR5OWC"
   },
   "outputs": [],
   "source": [
    "fig = plt.figure(num = 1, figsize = (9, 6), dpi = 80, facecolor = None, edgecolor = 'k')\n",
    "\n",
    "plt.scatter(range(len(all_root)), all_root, s = 100)\n",
    "plt.axhline(y = 2.0, color = 'k', linewidth = 2)"
   ]
  },
  {
   "cell_type": "code",
   "execution_count": null,
   "metadata": {
    "id": "CEWeHGFk9rq_"
   },
   "outputs": [],
   "source": [
    "all_root"
   ]
  },
  {
   "cell_type": "markdown",
   "metadata": {
    "id": "fjj8D3txA-sh"
   },
   "source": [
    "### Limit of Accuracy"
   ]
  },
  {
   "cell_type": "code",
   "execution_count": null,
   "metadata": {
    "id": "j4xSrCFy66h4"
   },
   "outputs": [],
   "source": [
    "# function from Sauer P.46\n",
    "# this function has a root at x = 2/3\n",
    "def new_func(x):\n",
    "  return x**3 - 2*x**2 + 4*x/3 - 8.0/27\n",
    "\n",
    "for tol in [1e-4, 1e-5, 1e-6, 1e-7, 1e-8, 1e-9, 1e-10]:\n",
    "  final_root, all_root = bisection(new_func, 0.0, 1.0, tol=tol)\n",
    "  print(\"Estimated Root: \", final_root, \" Number of Steps:\", len(all_root), \" Function Value at Estimated Root: \", new_func(final_root))"
   ]
  },
  {
   "cell_type": "markdown",
   "metadata": {
    "id": "g3-mziKhxJu4"
   },
   "source": [
    "Let's try using `Scipy`'s Brent Method.  For more information on how to use root finding in `scipy`, check here: https://docs.scipy.org/doc/scipy/reference/generated/scipy.optimize.root_scalar.html#scipy.optimize.root_scalar\n",
    "\n",
    "Other more specific methods for root finding: https://docs.scipy.org/doc/scipy/reference/optimize.html#root-finding\n",
    "\n"
   ]
  },
  {
   "cell_type": "code",
   "execution_count": null,
   "metadata": {
    "id": "-TFZ4qpnBQJF"
   },
   "outputs": [],
   "source": [
    "from scipy import optimize\n",
    "\n",
    "sol = optimize.root_scalar(new_func, bracket=[0, 1], method='brentq')\n",
    "sol.root, sol.iterations, sol.function_calls"
   ]
  },
  {
   "cell_type": "markdown",
   "metadata": {
    "id": "zXYqIy5T05r3"
   },
   "source": [
    "Why we can't get a more accurate solution?\n",
    "\n",
    "Because of machine precision!"
   ]
  },
  {
   "cell_type": "code",
   "execution_count": null,
   "metadata": {
    "id": "7XhfhyfrxSNz"
   },
   "outputs": [],
   "source": [
    "x = np.linspace(2.0/3.0 - 1e-5, 2.0/3.0 + 1e-5, 100)\n",
    "\n",
    "fig = plt.figure(num = 1, figsize = (9, 6), dpi = 80, facecolor = None, edgecolor = 'k')\n",
    "\n",
    "plt.scatter(x, new_func(x), linewidth = 2)\n",
    "plt.plot(x, new_func(x), linewidth = 2)\n",
    "plt.axhline(y = 0, color = 'k', ls = '-.', linewidth = 2)\n",
    "plt.axvline(x = 2.0/3.0, color = 'k', ls = '-.', linewidth = 2)"
   ]
  },
  {
   "cell_type": "markdown",
   "metadata": {
    "id": "K0rHDrB13RKf"
   },
   "source": [
    "### Backward and Forward Error\n",
    "\n",
    "Assume that $f$ is a function and that $r$ is a root, meaning that it satisfies $f(r) = 0$. Assume that $x_a$ is an approximation to $r$. For the root-finding problem, the **backward error** of the approximation $x_a$ is $|f(x_a)|$ and the **forward error** is $|r − x_a|$.\n",
    "\n",
    "In the example function above:\n",
    "$$ f(x) = x^3 - 2x^2 + \\frac{4}{3}x - \\frac{8}{27} $$,\n",
    "\n",
    "the **backward error** $|f(x_a)|$ is around machine precision $\\epsilon_\\text{mach}\\approx 2.2\\times10^{-16}$, while the **forward error** $|r − x_a|$ is around $10^{-5}$.\n",
    "\n",
    "Since we cannot decrease the **backward error** any more, we cannot further decrease the **forward error** either."
   ]
  },
  {
   "cell_type": "markdown",
   "metadata": {
    "id": "ofovygNO6YjK"
   },
   "source": [
    "#### Example:\n",
    "\n",
    "The function $f(x) = \\sin x − x$ has a triple root at $r = 0$. Find the forward and backward error of the approximate root $x_c = 0.001$.\n",
    "\n",
    "**Solution:**\n",
    "\n",
    "We know that the root $r=0$, so the forward error by definition will be $|r-x_c| = |0-0.001| = 10^{-3}$.\n",
    "\n",
    "The backward error will be $|f(x_c)| = |\\sin(0.001) - 0.001|\\approx1.6\\times10^{-10}$"
   ]
  },
  {
   "cell_type": "code",
   "execution_count": null,
   "metadata": {
    "id": "uGf7hxT11JsJ"
   },
   "outputs": [],
   "source": [
    "x = 0.001\n",
    "print(np.abs(np.sin(x)-x))"
   ]
  },
  {
   "cell_type": "markdown",
   "metadata": {
    "id": "EJWMhfAr5gjO"
   },
   "source": [
    "### Definition of Multiple Root\n",
    "\n",
    "Assume that $r$ is a root of the differentiable function $f$; that is, assume that $f(r)= 0$. Then if $0=f(r)=f′(r)=f′′(r)=\\cdots= f^{(m−1)}(r)$, but $f^{(m)}(r)\\neq0$, we say that $f$ has a **root** of **multiplicity** $m$ at $r$. We say that $f$ has a **multiple root** at $r$ if the multiplicity is greater than one. The root is called **simple** if the multiplicity is one."
   ]
  }
 ],
 "metadata": {
  "colab": {
   "provenance": []
  },
  "kernelspec": {
   "display_name": "Python 3 (ipykernel)",
   "language": "python",
   "name": "python3"
  },
  "language_info": {
   "codemirror_mode": {
    "name": "ipython",
    "version": 3
   },
   "file_extension": ".py",
   "mimetype": "text/x-python",
   "name": "python",
   "nbconvert_exporter": "python",
   "pygments_lexer": "ipython3",
   "version": "3.9.18"
  }
 },
 "nbformat": 4,
 "nbformat_minor": 4
}
